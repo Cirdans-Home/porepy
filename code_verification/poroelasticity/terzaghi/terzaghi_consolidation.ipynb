{
 "cells": [
  {
   "cell_type": "markdown",
   "metadata": {},
   "source": [
    "# Terzaghi's consolidation problem"
   ]
  },
  {
   "cell_type": "markdown",
   "metadata": {},
   "source": [
    "This notebook shows how to set up Terzaghi's consolidation problem using MPFA/MPSA-FV by\n",
    "inhereting from the `ContactMechanicsBiot` model class.\n",
    "\n",
    "In addition, we will also learn to:\n",
    "* Set up roller boundary conditions for the mechanical (sub)problem.\n",
    "* Employ variable time steps using the time-stepping control routine to match desired scheduled times.\n",
    "\n",
    "Recommended previous tutorials:\n",
    "* Manufactured solution for Biot's problem\n",
    "\n",
    "Related tutorials:\n",
    "* Mandel's problem"
   ]
  },
  {
   "cell_type": "markdown",
   "metadata": {},
   "source": [
    "## Description of the problem"
   ]
  },
  {
   "cell_type": "markdown",
   "metadata": {},
   "source": [
    "Terzaghi's problem is a well known one-dimensional consolidation process [[1-2](#References)].\n",
    "Generally, when soils are subjected to a vertical load, porosity decreases, resulting in less\n",
    "available space for pore water. The liquid within the pores can be expelled, however, in certain\n",
    "types of soils (especially clayey soils) this process may take some time due to their low\n",
    "permeability. This process is referred to as _consolidation_.\n",
    "\n",
    "We consider a soil column of height $h$ (see left figure from below). We apply a\n",
    "constant load $F$ to the top of the column while keeping the bottom impervious to flow. The\n",
    "exherted load will cause an instantaneous rise in the fluid pressure, which will be equal to the\n",
    "applied load. After that, the fluid pressure will montonically decrease to zero.\n",
    "\n",
    "In order to emulate the one-dimensional consolidation process using a two-dimensional domain,\n",
    "on the sides of domain, we use impose roller boundary conditions for the mechanics and no-flux\n",
    "for the flow subproblems, respectively. We therefore expect the horizontal component of the\n",
    "displacement tobe zero at all times.\n",
    "\n",
    "<img src=\"fig/domain_and_bc.svg\" alt=\"Terzaghi's consolidation problem\" style=\"width: 600px;\"/>"
   ]
  },
  {
   "cell_type": "markdown",
   "metadata": {},
   "source": [
    "## The analytical solution"
   ]
  },
  {
   "cell_type": "markdown",
   "metadata": {},
   "source": [
    "The analytical solution to Terzaghi's consolidation can be found in [[3](#References)]. The\n",
    "pressure distribution reads:\n",
    "\n",
    "\\begin{equation}\n",
    "    p(y,t) = \\frac{4}{\\pi} p_0 \\sum_{j=1}^{\\infty} \\frac{(-1)^{j-1}}{2j-1} \\cos\n",
    "    \\left[(2j-1)\\frac{\\pi}{2}\\frac{y}{h} \\right] \\exp\n",
    "    \\left[-(2j-1)^2 \\frac{\\pi^2}{4} \\frac{c_f t}{h^2} \\right],\n",
    "\\end{equation}\n",
    "\n",
    "where $p_0 = p(y,0) = F$ and $c_f$ is the so-called _coefficient of consolidation_.\n",
    "\n",
    "The mechanical effects can be studied introducing the concept of_degree of consolidation_, a\n",
    "dimensionless measure of the state of consolidation taking a value of $0$ for an unconsolidated\n",
    "state and $1$ for a fully consolidated state. The degree of consolidation is defined as:\n",
    "\n",
    "\\begin{equation}\n",
    "    U(t) = \\frac{u_y - u_{y,0}}{u_{y,\\infty} - u_{y,0}} = 1 - \\frac{8}{\\pi^2}\n",
    "    \\sum_{k=1}^{\\infty} \\frac{1}{(2k-1)^2}\n",
    "\\exp\\left[-(2k-1)^2 \\frac{\\pi^2}{4} \\frac{c_f t}{h^2}\\right],\n",
    "\\end{equation}\n",
    "\n",
    "where $u_{y,\\infty} = {hF}/({2\\mu_s + \\lambda_s})$ is the final vertical displacement and\n",
    "$u_{y,0} = 0$ is the initial displacement. The parameters $\\mu_s$ and $\\lambda_s$ are the usual\n",
    "Lamé parameters."
   ]
  },
  {
   "cell_type": "markdown",
   "metadata": {},
   "source": [
    "## Model setup and physical parameters"
   ]
  },
  {
   "cell_type": "markdown",
   "metadata": {},
   "source": [
    "The adopted domain will be a unit square $\\Omega = (0,1)^2~\\mathrm{m}^2$ for a final simulation\n",
    "time $T = 600~\\mathrm{s}$. The domain is discretized in space using an unstuctured triangular\n",
    "grid. To capture the entire consolidation process, we employ a varying time-stepping strategy\n",
    " using the class `pp.TimeSteppingControl` available in PorePy.\n",
    "\n",
    "The physical parameters used in the simulation are listed below:\n",
    "\n",
    "**Parameter** | **Symbol** | **Value** | **Unit**\n",
    "----------:|:----------:|:----------:|:----------:\n",
    "First Lamé parameter| $\\lambda_s$ | $1$ | $\\mathrm{Pa}$\n",
    "Second Lamé parameter| $\\mu_s$ | $1$ | $\\mathrm{Pa}$\n",
    "Intrinsic permeability | $\\mathbf{k}$ | $0.001\\mathbf{I}$ | $\\mathrm{m^2}$\n",
    "Fluid density | $\\rho_f$ | $1$ | $\\mathrm{m^3}$\n",
    "Fluid viscosity | $\\mu_f$ | $1$ | $\\mathrm{Pa \\cdot s}$ \n",
    "Storativity | $S_\\varepsilon$ | $0$ | $\\mathrm{Pa^{-1}}$\n",
    "Biot coefficient | $\\alpha$ | $1$ | $\\mathrm{-}$\n",
    "Aplied load | $F$ | $1$ | $\\mathrm{N}$"
   ]
  },
  {
   "cell_type": "markdown",
   "metadata": {},
   "source": [
    "## References"
   ]
  },
  {
   "cell_type": "markdown",
   "metadata": {},
   "source": [
    "[1] von Terzaghi, K. (1923). Die berechnung der durchassigkeitsziffer des tones aus dem verlauf\n",
    "der hydrodynamischen spannungs. erscheinungen. Sitzungsber. Akad. Wiss. Math. Naturwiss. Kl.\n",
    "Abt. 2A, 132, 105-124.\n",
    "\n",
    "[2] von Terzaghi, K. (1944). Theoretical Soil Mechanics.\n",
    "\n",
    "[3] Verruijt, A. (2017). An Introduction to Soil Mechanics (Vol. 30). Springer."
   ]
  },
  {
   "cell_type": "markdown",
   "metadata": {},
   "source": [
    "## Importing modules"
   ]
  },
  {
   "cell_type": "code",
   "execution_count": 82,
   "metadata": {
    "pycharm": {
     "name": "#%%\n"
    }
   },
   "outputs": [],
   "source": [
    "import numpy as np\n",
    "import porepy as pp\n",
    "import matplotlib.pyplot as plt\n",
    "import matplotlib.colors as mcolors\n",
    "\n",
    "from time import time\n",
    "from typing import Union\n",
    "from terzaghi_utils import TerzaghiUtilities"
   ]
  },
  {
   "cell_type": "markdown",
   "metadata": {},
   "source": [
    "## The model class"
   ]
  },
  {
   "cell_type": "markdown",
   "metadata": {},
   "source": [
    "Let us start constructing the `Terzaghi` model class by inhereting from the\n",
    "`pp.ContactMechanicsBiot` class. Several methods will be overriden and new\n",
    "ones will have to be created. We offer and in-depth explanation of such methods below. To have\n",
    "the possibiliy to add Markdown comments and explanations between class methods, we avoid\n",
    "writing the whole class in a single notebook cell and rather inherit from the `Terzaghi` class\n",
    "itself several times. This is of course **not** the way to go if you are writing your own\n",
    "model."
   ]
  },
  {
   "cell_type": "code",
   "execution_count": 83,
   "metadata": {
    "pycharm": {
     "name": "#%%\n"
    }
   },
   "outputs": [],
   "source": [
    "class Terzaghi(pp.ContactMechanicsBiot):\n",
    "    \"\"\"Parent class for Terzaghi's consolidation problem model.\"\"\"\n",
    "\n",
    "    def __init__(self, params: dict):\n",
    "        \"\"\"\n",
    "\n",
    "        Args:\n",
    "            params: Model parameters.\n",
    "\n",
    "        Valid model parameters are:\n",
    "            mesh_size (float, Default is 0.1): Mesh size.\n",
    "            height (float, Default is 1.0): Height of the domain.\n",
    "            vertical_load (float, Default is 1.0): Applied vertical load.\n",
    "            time_step_increase_factor (float, Default is 1.2): Increase factor for time step.\n",
    "\n",
    "        \"\"\"\n",
    "        super().__init__(params)\n",
    "\n",
    "        self.tsc = self.params[\"time_stepping_object\"]\n",
    "        self.time = self.tsc.time_init\n",
    "        self.end_time = self.tsc.time_final\n",
    "        self.time_step = self.tsc.dt\n",
    "\n",
    "        # Create a solution dictionary to store relevant data\n",
    "        self.sol = {t: {} for t in self.tsc.schedule}"
   ]
  },
  {
   "cell_type": "markdown",
   "metadata": {},
   "source": [
    "Although Terzaghi's problem is strictly speaking a one-dimensional consolidation problem, we\n",
    "can mimic the one-dimensional process using a two-dimensional grid. To this aim, we create\n",
    "an unstructured, unfractured mesh. The method accesses the `mesh_size` field available in\n",
    "`params` if available, or sets the mesh size to `0.1` otherwise."
   ]
  },
  {
   "cell_type": "code",
   "execution_count": 84,
   "metadata": {
    "pycharm": {
     "name": "#%%\n"
    }
   },
   "outputs": [],
   "source": [
    "class Terzaghi(Terzaghi):\n",
    "    \"\"\"Terzaghi class with non-default grid\"\"\"\n",
    "\n",
    "    def create_grid(self) -> None:\n",
    "        \"\"\"Create two-dimensional unstructured mixed-dimensional grid.\"\"\"\n",
    "        height = self.params.get(\"height\", 1.0)\n",
    "        mesh_size = self.params.get(\"mesh_size\", 0.1)\n",
    "        self.box = {\"xmin\": 0.0, \"xmax\": height, \"ymin\": 0.0, \"ymax\": height}\n",
    "        network_2d = pp.FractureNetwork2d(None, None, self.box)\n",
    "        mesh_args = {\"mesh_size_bound\": mesh_size, \"mesh_size_frac\": mesh_size}\n",
    "        self.mdg = network_2d.mesh(mesh_args)"
   ]
  },
  {
   "cell_type": "markdown",
   "metadata": {},
   "source": [
    "The initial conditions for this problem corresponds to an originally undeformed state\n",
    "(displacement equal to zero), whereas the pressure instantaneously equals the value of the\n",
    "applied vertical load $F$. We will therefore override the value of the pressure."
   ]
  },
  {
   "cell_type": "code",
   "execution_count": 85,
   "metadata": {
    "pycharm": {
     "name": "#%%\n"
    }
   },
   "outputs": [],
   "source": [
    "class Terzaghi(Terzaghi):\n",
    "    \"\"\"Terzaghi class with non-default inital conditions\"\"\"\n",
    "\n",
    "    def _initial_condition(self) -> None:\n",
    "        \"\"\"Override initial condition for the flow subproblem.\"\"\"\n",
    "        super()._initial_condition()\n",
    "        sd = self.mdg.subdomains()[0]\n",
    "        data = self.mdg.subdomain_data(sd)\n",
    "        vertical_load = self.params.get(\"vertical_load\", 1.0)\n",
    "        initial_p = vertical_load * np.ones(sd.num_cells)\n",
    "        data[pp.STATE][self.scalar_variable] = initial_p\n",
    "        data[pp.STATE][pp.ITERATE][self.scalar_variable] = initial_p"
   ]
  },
  {
   "cell_type": "markdown",
   "metadata": {},
   "source": [
    "We now focus on the boundary conditions types. For the flow subproblem, all the sides are\n",
    "set as no-flux, except the top side, where a constant pressure is prescribed. Thus, we set\n",
    "the east, west, and south sides of the domain as Neumann, and at the north side as Dirichlet.\n",
    "\n",
    "For the mechanics subproblem, we prescibe roller boundary conditions at the east, west, and\n",
    "south sides of the domain, and Neumann at the north side. Roller boundary\n",
    "conditions will essentially *clamp* a boundary face in the normal direction, while in the\n",
    "tangential direction the face at stress-free conditions."
   ]
  },
  {
   "cell_type": "code",
   "execution_count": 86,
   "metadata": {
    "pycharm": {
     "name": "#%%\n"
    }
   },
   "outputs": [],
   "source": [
    "class Terzaghi(Terzaghi):\n",
    "    \"\"\"Terzaghi class with non-default boundary condition types\"\"\"\n",
    "\n",
    "    def _bc_type_scalar(self, sd: pp.Grid) -> pp.BoundaryCondition:\n",
    "        \"\"\"Define boundary condition types for the flow subproblem.\n",
    "\n",
    "        Args:\n",
    "            sd: Subdomain grid.\n",
    "\n",
    "        Returns:\n",
    "            bc: Scalar boundary condition representation.\n",
    "\n",
    "        \"\"\"\n",
    "\n",
    "        # Define boundary regions\n",
    "        all_bc, _, _, north, *_ = self._domain_boundary_sides(sd)\n",
    "        north_bc = np.isin(all_bc, np.where(north)).nonzero()\n",
    "\n",
    "        # All sides Neumann, except the North which is Dirichlet\n",
    "        bc_type = np.asarray(all_bc.size * [\"neu\"])\n",
    "        bc_type[north_bc] = \"dir\"\n",
    "\n",
    "        bc = pp.BoundaryCondition(sd, faces=all_bc, cond=bc_type)\n",
    "\n",
    "        return bc\n",
    "\n",
    "    def _bc_type_mechanics(self, sd: pp.Grid) -> pp.BoundaryConditionVectorial:\n",
    "        \"\"\"Define boundary condition types for the mechanics subproblem\n",
    "\n",
    "        Args:\n",
    "            sd: Subdomain grid.\n",
    "\n",
    "        Returns:\n",
    "            bc: Vectorial boundary condition representation.\n",
    "\n",
    "        \"\"\"\n",
    "\n",
    "        # Inherit bc from parent class. This sets all bc faces as Dirichlet.\n",
    "        super()._bc_type_mechanics(sd=sd)\n",
    "\n",
    "        # Get boundary sides, retrieve data dict, and bc object\n",
    "        _, east, west, north, south, *_ = self._domain_boundary_sides(sd)\n",
    "        data = self.mdg.subdomain_data(sd)\n",
    "        bc = data[pp.PARAMETERS][self.mechanics_parameter_key][\"bc\"]\n",
    "\n",
    "        # East side: Roller\n",
    "        bc.is_neu[1, east] = True\n",
    "        bc.is_dir[1, east] = False\n",
    "\n",
    "        # West side: Roller\n",
    "        bc.is_neu[1, west] = True\n",
    "        bc.is_dir[1, west] = False\n",
    "\n",
    "        # North side: Neumann\n",
    "        bc.is_neu[:, north] = True\n",
    "        bc.is_dir[:, north] = False\n",
    "\n",
    "        # South side: Roller\n",
    "        bc.is_neu[0, south] = True\n",
    "        bc.is_dir[0, south] = False\n",
    "\n",
    "        return bc"
   ]
  },
  {
   "cell_type": "markdown",
   "metadata": {},
   "source": [
    "Now that the boundary condition *type* has been prescribed, we can impose the boundary\n",
    "condition values. This is done by overriding the methods `bc_values_scalar()` and\n",
    "`bc_values_mechanics()`. The default methods (as inhereted from `ContactMechanicsBiot`) impose\n",
    " zero values. This means that we only actually need to modify the north boundary side value\n",
    " of the mechanics subproblem to set the corresponding vertical load.\n",
    "\n",
    "An important point to recall is that Neumann boundary conditions must be given in \n",
    "integrated form. To be precise, we need the integrated traction force on the north side \n",
    "of the domain:\n",
    "\n",
    "\\begin{equation*}\n",
    "\\int_{\\Gamma_{\\mathrm{north}}} \\sigma \\cdot \\mathbf{n}~ \\mathrm{d}S\n",
    "= \\int_{\\Gamma_{\\mathrm{north}}} \\mathbf{T} ~\\mathrm{d}S.\n",
    "\\end{equation*}\n",
    "\n",
    "Recall that $\\mathbf{\\sigma}$ is the Biot stress tensor, $\\mathbf{n}$ is the\n",
    "outward-pointing normal vector on the boundary $\\Gamma_{\\mathrm{north}}$, and $\\mathbf{T}$\n",
    "the traction force.\n",
    "\n",
    "In the horizontal direction, the boundary is subjected to stress-free conditions and thus the\n",
    "above integral evaluates to zero. In the vertical direction, on the other hand, we have\n",
    "to apply the prescribed vertical force.\n",
    "\n",
    "\\begin{equation*}\n",
    "\\int_{\\Gamma_{\\mathrm{north}}} T_y ~\\mathrm{d}S =\n",
    "\\sum_{e\\in\\mathcal{T}_{\\mathrm{north}}} - F |e|.\n",
    "\\end{equation*}\n",
    "\n",
    "Note that this equality _only holds_ since the applied load $F$ is constant (and the\n",
    "integral can therefore be trivially evaluated). The negative sign comes from the fact that\n",
    "the applied force is compressive. In practice, the total (integrated) load will be\n",
    "equally distributed in each face $e$ from the simplicial partition\n",
    "$\\mathcal{T}_{\\mathrm{north}}$ of the north boundary (see Saint-Venant's principle)."
   ]
  },
  {
   "cell_type": "code",
   "execution_count": 87,
   "metadata": {
    "pycharm": {
     "name": "#%%\n"
    }
   },
   "outputs": [],
   "source": [
    "class Terzaghi(Terzaghi):\n",
    "    \"\"\"Terzaghi class with non-default boundary condition values\"\"\"\n",
    "\n",
    "    def _bc_values_mechanics(self, sd: pp.Grid) -> np.ndarray:\n",
    "        \"\"\"Set boundary condition values for the mechanics subproblem.\n",
    "\n",
    "        Args:\n",
    "            sd: Subdomain grid.\n",
    "\n",
    "        Returns:\n",
    "            bc_values (sd.dim * sd.num_faces): Containing the boundary condition values.\n",
    "\n",
    "        \"\"\"\n",
    "\n",
    "        # Retrieve boundary sides\n",
    "        _, _, _, north, *_ = self._domain_boundary_sides(sd)\n",
    "\n",
    "        # All zeros except vertical component of the north side\n",
    "        vertical_load = self.params.get(\"vertical_load\", 1.0)\n",
    "        bc_values = np.array([np.zeros(sd.num_faces), np.zeros(sd.num_faces)])\n",
    "        bc_values[1, north] = -vertical_load * sd.face_areas[north]\n",
    "        bc_values = bc_values.ravel(\"F\")\n",
    "\n",
    "        return bc_values"
   ]
  },
  {
   "cell_type": "markdown",
   "metadata": {},
   "source": [
    "Now, we prescribe the values of permeability and storativity by overriding the methods\n",
    "`_permeability()` and `_storativity()`. In addition, we create two methods for determining\n",
    "the confined compressbility and the coefficient of consolidatiion."
   ]
  },
  {
   "cell_type": "code",
   "execution_count": 88,
   "metadata": {
    "pycharm": {
     "name": "#%%\n"
    }
   },
   "outputs": [],
   "source": [
    "class Terzaghi(Terzaghi):\n",
    "    \"\"\"Terzaghi class with non-default physical parameters\"\"\"\n",
    "\n",
    "    def _permeability(self, sd: pp.Grid) -> np.ndarray:\n",
    "        \"\"\"Overrirde value of intrinsic permeability [m^2].\n",
    "\n",
    "        Args:\n",
    "            sd: Subdomain grid.\n",
    "\n",
    "        Returns:\n",
    "            permeability (sd.num_cells): containing the permeability values at each cell.\n",
    "\n",
    "        \"\"\"\n",
    "\n",
    "        permeability = 0.001 * np.ones(sd.num_cells)\n",
    "\n",
    "        return permeability\n",
    "\n",
    "    def _storativity(self, sd: pp.Grid) -> np.ndarray:\n",
    "        \"\"\"Override value of storativity [Pa^{-1}].\n",
    "\n",
    "        Args:\n",
    "            sd: Subdomain grid.\n",
    "\n",
    "        Returns:\n",
    "            storativity (sd.num_cells): containing the storativity values at each cell.\n",
    "\n",
    "        \"\"\"\n",
    "\n",
    "        storativity = np.zeros(sd.num_cells)\n",
    "\n",
    "        return storativity"
   ]
  },
  {
   "cell_type": "markdown",
   "metadata": {
    "pycharm": {
     "name": "#%% md\n"
    }
   },
   "source": [
    "Finally, we need to adjust the value of the time step to match the scheduled times. To this\n",
    "aim, we use the `tsc` instance of the `TimeSteppingControl` class. To determine the value of\n",
    "the next time step, we use the method `next_time_step`. The method will increase the time\n",
    "step size when the number of iterations is below an optimal lower iteration range. Since\n",
    "this problem is linear, we hardcode the number of iterations to 1, forcing the algorithm to\n",
    "multiply the previous time step size by a lower multiplication factor (the default is 1.3).\n",
    "In order to avoid having too large time steps, a maximum time step size is given when `tsc`\n",
    "is instatiated. For further details, see the documentation of the `pp.TimeSteppingControl`."
   ]
  },
  {
   "cell_type": "code",
   "execution_count": 89,
   "metadata": {
    "pycharm": {
     "name": "#%%\n"
    }
   },
   "outputs": [],
   "source": [
    "class Terzaghi(Terzaghi):\n",
    "    def before_newton_loop(self):\n",
    "        super().before_newton_loop()\n",
    "        self.tsc.time += self.time_step\n",
    "\n",
    "    def after_newton_convergence(\n",
    "        self,\n",
    "        solution: np.ndarray,\n",
    "        errors: float,\n",
    "        iteration_counter: int,\n",
    "    ) -> None:\n",
    "        super().after_newton_convergence(solution, errors, iteration_counter)\n",
    "\n",
    "        # Adjust time step\n",
    "        self.time_step = self.tsc.next_time_step(1, recompute_solution=False)\n",
    "        self._ad.time_step._value = self.time_step\n",
    "\n",
    "        # Store solutions\n",
    "        sd = self.mdg.subdomains()[0]\n",
    "        data = self.mdg.subdomain_data(sd)\n",
    "        if self.time in self.tsc.schedule[1:]:\n",
    "            model.sol[self.time][\"u_num\"] = data[pp.STATE][self.displacement_variable]\n",
    "            model.sol[self.time][\"p_num\"] = data[pp.STATE][self.scalar_variable]\n",
    "            model.sol[self.time][\"t\"] = self.time"
   ]
  },
  {
   "cell_type": "markdown",
   "metadata": {
    "pycharm": {
     "name": "#%% md\n"
    }
   },
   "source": [
    "## Running the model"
   ]
  },
  {
   "cell_type": "markdown",
   "metadata": {
    "pycharm": {
     "name": "#%% md\n"
    }
   },
   "source": [
    "We are in position to run the model."
   ]
  },
  {
   "cell_type": "code",
   "execution_count": 90,
   "metadata": {
    "pycharm": {
     "name": "#%%\n"
    }
   },
   "outputs": [
    {
     "name": "stdout",
     "output_type": "stream",
     "text": [
      "Simulation started...\n",
      "\n",
      "Simulation finished in 31.83292841911316 seconds.\n"
     ]
    }
   ],
   "source": [
    "tsc = pp.TimeSteppingControl(\n",
    "    schedule=[0.0, 0.05, 2.0, 7.5, 20.0, 50.0, 100.0, 200.0, 600.0],\n",
    "    dt_init=0.05,\n",
    "    dt_min_max=(0.05, 4.0),\n",
    "    iter_lowupp_factor=(1.3, 0.7),\n",
    "    print_info=False,\n",
    ")\n",
    "\n",
    "model_params = {\n",
    "    \"use_ad\": True,\n",
    "    \"height\": 1.0,\n",
    "    \"mesh_size\": 0.04,\n",
    "    \"vertical_load\": 1.0,\n",
    "    \"time_stepping_object\": tsc,\n",
    "}\n",
    "print(\"Simulation started...\")\n",
    "tic = time()\n",
    "model = Terzaghi(model_params)\n",
    "pp.run_time_dependent_model(model, model_params)\n",
    "print(f\"Simulation finished in {time() - tic} seconds.\")\n"
   ]
  },
  {
   "cell_type": "markdown",
   "source": [
    "## Postprocessing the results\n"
   ],
   "metadata": {
    "collapsed": false,
    "pycharm": {
     "name": "#%% md\n"
    }
   }
  },
  {
   "cell_type": "markdown",
   "source": [
    "To be able to visualize the results, we need to postprocess the results. To this aim, we\n",
    "first instatiate the `utils` object from the `TerzaghiUtilities` class. This class contains\n",
    "utility functions, including the exact solutions to the problem.\n",
    "\n",
    "Below, we obtain the dimensionless version of the pressure and displacement. Note that for\n",
    "the pressure solution, we focus on a vertical cut from of the domain, see the `vert_cut()`\n",
    "helper method from the `TerzaghiUtilities` class.\n",
    "\n",
    "The quantites of interest are stored in the `model.sol` dictionary."
   ],
   "metadata": {
    "collapsed": false,
    "pycharm": {
     "name": "#%% md\n"
    }
   }
  },
  {
   "cell_type": "code",
   "execution_count": 91,
   "outputs": [],
   "source": [
    "utils = TerzaghiUtilities(model)\n",
    "\n",
    "sd = model.mdg.subdomains()[0]\n",
    "dimless_y = utils.vert_cut(sd.cell_centers[1]) / model.params[\"height\"]\n",
    "\n",
    "for idx, t in enumerate(model.tsc.schedule[1:]):\n",
    "    model.sol[t][\"dimless_p_ex\"] = utils.vert_cut(utils.dimless_p(t))\n",
    "    model.sol[t][\"dimless_p_num\"] = (\n",
    "            utils.vert_cut(model.sol[t][\"p_num\"]) /\n",
    "            model.params[\"height\"]\n",
    "    )\n",
    "    model.sol[t][\"dimless_t\"] = utils.dimless_t(t)"
   ],
   "metadata": {
    "collapsed": false,
    "pycharm": {
     "name": "#%%\n"
    }
   }
  },
  {
   "cell_type": "markdown",
   "metadata": {
    "pycharm": {
     "name": "#%% md\n"
    }
   },
   "source": [
    "## Visualizing the results"
   ]
  },
  {
   "cell_type": "markdown",
   "source": [
    "We will now visualize the results. Since this process is in fact one-dimensional, we can\n",
    "only focus on the effect ocurring in the vertical axis. We first retrieve the exact solution\n",
    "object with the help of the `TerzaghiUtilities` class."
   ],
   "metadata": {
    "collapsed": false,
    "pycharm": {
     "name": "#%% md\n"
    }
   }
  },
  {
   "cell_type": "code",
   "execution_count": 91,
   "outputs": [],
   "source": [],
   "metadata": {
    "collapsed": false,
    "pycharm": {
     "name": "#%%\n"
    }
   }
  },
  {
   "cell_type": "markdown",
   "source": [
    "Let us first plot the dimensionless pressure profiles for the scheduled times. The exact\n",
    "profiles are shown in solid lines, whereas the profiles obtained with MPFA/MPSA-FV are\n",
    "depicted with dots."
   ],
   "metadata": {
    "collapsed": false
   }
  },
  {
   "cell_type": "code",
   "execution_count": 92,
   "outputs": [
    {
     "data": {
      "text/plain": "<Figure size 648x576 with 1 Axes>",
      "image/png": "[encoded data removed]"
     },
     "metadata": {
      "needs_background": "light"
     },
     "output_type": "display_data"
    }
   ],
   "source": [
    "cmap = mcolors.ListedColormap(plt.cm.tab10.colors[: len(model.tsc.schedule)])\n",
    "fig, ax = plt.subplots(figsize=(9, 8))\n",
    "\n",
    "for idx, t in enumerate(model.tsc.schedule[1:]):\n",
    "    ax.plot(model.sol[t][\"dimless_p_ex\"], dimless_y, color=cmap.colors[idx])\n",
    "    ax.plot(\n",
    "        model.sol[t][\"dimless_p_num\"],\n",
    "        dimless_y,\n",
    "        color=cmap.colors[idx],\n",
    "        linewidth=0,\n",
    "        marker=\".\",\n",
    "        markersize=10,\n",
    "    )\n",
    "    ax.plot(\n",
    "        [],\n",
    "        [],\n",
    "        color=cmap.colors[idx],\n",
    "        linewidth=0,\n",
    "        marker=\"s\",\n",
    "        markersize=10,\n",
    "        label=rf\"$\\tau= $ {round(model.sol[t]['dimless_t'], 6)}\",\n",
    "    )\n",
    "ax.set_xlabel(r\"$p/p_0$\", fontsize=15)\n",
    "ax.set_ylabel(r\"$y/h$\", fontsize=15)\n",
    "pos = ax.get_position()\n",
    "ax.set_position([pos.x0, pos.y0, pos.width * 0.9, pos.height])\n",
    "ax.legend(loc=\"center right\", bbox_to_anchor=(1.25, 0.5))\n",
    "ax.set_title(\"Dimensionless pressure profiles for several times.\", fontsize=16)\n",
    "plt.show()"
   ],
   "metadata": {
    "collapsed": false,
    "pycharm": {
     "name": "#%%\n"
    }
   }
  },
  {
   "cell_type": "markdown",
   "metadata": {
    "pycharm": {
     "name": "#%% md\n"
    }
   },
   "source": [
    "To check the mechanical response, we now focus our attention to the degree of consolidation."
   ]
  },
  {
   "cell_type": "code",
   "execution_count": 93,
   "outputs": [
    {
     "data": {
      "text/plain": "{0.0: {},\n 0.05: {'u_num': array([ 7.30362246e-08, -1.43851530e-07, -5.79219466e-08, ...,\n         -4.51857156e-07, -1.08781682e-07, -4.20661785e-07]),\n  'p_num': array([1.00000063, 1.00000057, 1.00003401, ..., 1.00000957, 1.00000174,\n         1.0000016 ]),\n  't': 0.05,\n  'dimless_p_ex': array([1.        , 1.        , 1.        , 1.        , 1.        ,\n         1.        , 1.        , 1.        , 1.        , 1.        ,\n         1.        , 1.        , 1.        , 1.        , 1.        ,\n         1.        , 1.        , 1.        , 1.        , 1.        ,\n         1.        , 1.        , 1.        , 1.        , 1.        ,\n         1.        , 0.99999694, 0.99914188, 0.49501492]),\n  'dimless_p_num': array([0.99999958, 0.99999955, 0.99999954, 0.9999995 , 0.99999933,\n         0.99999932, 0.99999904, 0.999999  , 0.99999857, 0.99999849,\n         0.99999784, 0.99999768, 0.99999672, 0.99999642, 0.99999502,\n         0.99999446, 0.99999245, 0.99999146, 0.99998867, 0.99998699,\n         0.99998328, 0.99998058, 0.99997576, 0.99997074, 0.9999393 ,\n         0.99981715, 0.99701524, 0.98455384, 0.69143318]),\n  'dimless_t': 0.00015},\n 2.0: {'u_num': array([-1.72423158e-07,  3.39212047e-07,  8.23344691e-08, ...,\n          1.09685942e-06,  2.40758566e-07,  6.45106698e-07]),\n  'p_num': array([0.99999892, 1.0000004 , 0.93298968, ..., 0.99785582, 0.99999634,\n         0.99999859]),\n  't': 2.0,\n  'dimless_p_ex': array([1.        , 1.        , 1.        , 1.        , 1.        ,\n         1.        , 1.        , 1.        , 1.        , 1.        ,\n         0.99999999, 0.99999998, 0.99999976, 0.99999927, 0.99999417,\n         0.99998452, 0.99990386, 0.99977515, 0.9989157 , 0.99776338,\n         0.99159201, 0.98466684, 0.95479865, 0.9268602 , 0.82941307,\n         0.7537483 , 0.53940338, 0.40183855, 0.08394893]),\n  'dimless_p_num': array([1.00000028, 1.0000003 , 1.00000034, 1.00000035, 1.00000043,\n         1.00000048, 1.00000057, 1.00000059, 1.00000041, 1.00000003,\n         0.99999778, 0.9999949 , 0.99998041, 0.99996357, 0.99988369,\n         0.99979492, 0.99939112, 0.99895927, 0.9970811 , 0.99516083,\n         0.98726937, 0.97966306, 0.95069423, 0.92494833, 0.83670862,\n         0.76680992, 0.56038708, 0.42179274, 0.08892457]),\n  'dimless_t': 0.005999999999999999},\n 7.5: {'u_num': array([-1.14594823e-07, -8.03064395e-06,  9.70452118e-09, ...,\n         -9.22182916e-05,  5.21910770e-07, -9.24977299e-05]),\n  'p_num': array([0.99967334, 0.99957504, 0.67462005, ..., 0.92059515, 0.99660915,\n         0.99660923]),\n  't': 7.5,\n  'dimless_p_ex': array([0.99999495, 0.99999057, 0.99998611, 0.99997247, 0.99992907,\n         0.99988875, 0.99973469, 0.99959706, 0.99910118, 0.9986798 ,\n         0.99724492, 0.9960853 , 0.99235189, 0.98948316, 0.98074843,\n         0.97436899, 0.95599308, 0.94324055, 0.90847858, 0.885563  ,\n         0.82643183, 0.78941608, 0.69897088, 0.64522277, 0.52082517,\n         0.45066983, 0.2968203 , 0.21450525, 0.0434099 ]),\n  'dimless_p_num': array([0.99989702, 0.99986812, 0.99984205, 0.99977421, 0.99960319,\n         0.99947234, 0.99906612, 0.99875865, 0.99782562, 0.99713145,\n         0.99506192, 0.99354886, 0.98912645, 0.9859578 , 0.97690842,\n         0.97057695, 0.95298117, 0.94101148, 0.90879759, 0.88759971,\n         0.83266046, 0.79789415, 0.71166149, 0.65952301, 0.53656839,\n         0.46601084, 0.30879193, 0.22367865, 0.04533487]),\n  'dimless_t': 0.022499999999999996},\n 20.0: {'u_num': array([-1.03038181e-06, -6.87080372e-04, -1.46047408e-07, ...,\n         -2.84825229e-03,  1.70248370e-06, -2.84878087e-03]),\n  'p_num': array([0.98123688, 0.97898871, 0.45516392, ..., 0.72937906, 0.94331985,\n         0.9433065 ]),\n  't': 20.0,\n  'dimless_p_ex': array([0.9921685 , 0.99123162, 0.99041839, 0.98843546, 0.98419536,\n         0.98139253, 0.97407316, 0.96942977, 0.95779725, 0.95063759,\n         0.93316556, 0.92265439, 0.89756639, 0.88278148, 0.84822316,\n         0.8282597 , 0.78254295, 0.7566509 , 0.69854993, 0.66628777,\n         0.59534246, 0.55671972, 0.47348374, 0.42905914, 0.33522728,\n         0.28613226, 0.1844974 , 0.13236765, 0.02659122]),\n  'dimless_p_num': array([0.98757771, 0.98662077, 0.98580777, 0.98385515, 0.97967962,\n         0.97695428, 0.96992149, 0.96550269, 0.95454295, 0.94784222,\n         0.93158314, 0.92182504, 0.89855385, 0.88481228, 0.8525758 ,\n         0.8338465 , 0.79064873, 0.76597612, 0.71008815, 0.67874608,\n         0.60910745, 0.57081173, 0.48745369, 0.44255912, 0.34693362,\n         0.29654993, 0.19163061, 0.1375958 , 0.02765439]),\n  'dimless_t': 0.05999999999999999},\n 50.0: {'u_num': array([-2.40907969e-06, -6.77808666e-03, -4.62324494e-07, ...,\n         -1.88224336e-02,  1.89612544e-06, -1.88249352e-02]),\n  'p_num': array([0.84522712, 0.83945793, 0.29307268, ..., 0.50835931, 0.76484757,\n         0.76482516]),\n  't': 50.0,\n  'dimless_p_ex': array([0.86407803, 0.86122587, 0.85879993, 0.85306283, 0.8415291 ,\n         0.83436751, 0.81703699, 0.8068748 , 0.78354907, 0.77038319,\n         0.74104655, 0.72487988, 0.68957149, 0.67044384, 0.62929252,\n         0.60729614, 0.56054938, 0.53584209, 0.48388874, 0.45670304,\n         0.40008643, 0.37073332, 0.31015283, 0.27901946, 0.21531945,\n         0.18286044, 0.11700697, 0.08372995, 0.01677678]),\n  'dimless_p_num': array([0.86263725, 0.8598907 , 0.85759531, 0.85220284, 0.84121928,\n         0.83440186, 0.81785736, 0.80812868, 0.78572681, 0.77303953,\n         0.74466481, 0.7289688 , 0.69455041, 0.67582997, 0.63538746,\n         0.61368266, 0.56736705, 0.54279287, 0.49092107, 0.46368217,\n         0.40676024, 0.37715902, 0.31589046, 0.28432693, 0.21960339,\n         0.18656602, 0.11944015, 0.08548807, 0.01713013]),\n  'dimless_t': 0.15},\n 100.0: {'u_num': array([-2.00131270e-06, -1.86035261e-02, -3.96612786e-07, ...,\n         -4.60457239e-02,  1.36936771e-06, -4.60510200e-02]),\n  'p_num': array([0.59708092, 0.59221796, 0.19273743, ..., 0.34015294, 0.53120919,\n         0.53119142]),\n  't': 100.0,\n  'dimless_p_ex': array([0.60668733, 0.60437814, 0.60241723, 0.5977914 , 0.58853983,\n         0.58282679, 0.5690978 , 0.56110853, 0.54293257, 0.5327686 ,\n         0.51035245, 0.49812854, 0.47172638, 0.45758172, 0.42749561,\n         0.4115928 , 0.37817021, 0.36069376, 0.32432434, 0.30547895,\n         0.26659056, 0.24659885, 0.20565273, 0.1847527 , 0.1422379 ,\n         0.12067992, 0.07710705, 0.05515059, 0.01104496]),\n  'dimless_p_num': array([0.61189717, 0.60954537, 0.60758433, 0.60299154, 0.59370105,\n         0.58797637, 0.57420945, 0.5661954 , 0.54795437, 0.53775013,\n         0.51523316, 0.5029489 , 0.47640103, 0.46217157, 0.43188679,\n         0.41587118, 0.38219121, 0.36457186, 0.3278839 , 0.3088652 ,\n         0.26959852, 0.24940483, 0.20802625, 0.18689934, 0.14390742,\n         0.12210329, 0.07802152, 0.05580676, 0.01117575]),\n  'dimless_t': 0.3},\n 200.0: {'u_num': array([-9.76988929e-07, -3.34556452e-02, -1.93557293e-07, ...,\n         -7.95975134e-02,  6.62717926e-07, -7.96060773e-02]),\n  'p_num': array([0.2882574 , 0.28587884, 0.09250667, ..., 0.16349355, 0.25610351,\n         0.25609475]),\n  't': 200.0,\n  'dimless_p_ex': array([0.28965291, 0.28854255, 0.28759973, 0.28537586, 0.28092924,\n         0.27818408, 0.27158937, 0.26775313, 0.25902924, 0.25415307,\n         0.24340434, 0.23754592, 0.2248995 , 0.21812814, 0.20373366,\n         0.19612947, 0.18015723, 0.17181018, 0.15444914, 0.145458  ,\n         0.12691358, 0.11738471, 0.09787633, 0.08792248, 0.06768096,\n         0.05741992, 0.03668477, 0.02623794, 0.0052545 ]),\n  'dimless_p_num': array([0.2955087 , 0.29435719, 0.29339717, 0.29114924, 0.28660421,\n         0.28380504, 0.27707779, 0.27316448, 0.26426461, 0.25929031,\n         0.24832455, 0.24234817, 0.22944627, 0.2225385 , 0.20785308,\n         0.20009563, 0.1838004 , 0.17528503, 0.15757277, 0.14840023,\n         0.12948049, 0.11975931, 0.09985597, 0.08970119, 0.06904978,\n         0.05858157, 0.03742651, 0.02676876, 0.00536039]),\n  'dimless_t': 0.6},\n 600.0: {'u_num': array([-5.28207655e-08, -4.65747575e-02, -1.04615681e-08, ...,\n         -1.09208174e-01,  3.58354390e-08, -1.09219607e-01]),\n  'p_num': array([0.01558513, 0.01545652, 0.00500137, ..., 0.00883934, 0.01384657,\n         0.0138461 ]),\n  't': 600.0,\n  'dimless_p_ex': array([0.01499631, 0.01493883, 0.01489001, 0.01477487, 0.01454465,\n         0.01440252, 0.01406109, 0.01386247, 0.0134108 , 0.01315834,\n         0.01260183, 0.01229852, 0.01164377, 0.01129319, 0.01054793,\n         0.01015424, 0.0093273 , 0.00889514, 0.0079963 , 0.0075308 ,\n         0.0065707 , 0.00607736, 0.00506735, 0.00455201, 0.00350404,\n         0.0029728 , 0.00189928, 0.00135841, 0.00027204]),\n  'dimless_p_num': array([0.01597722, 0.01591495, 0.01586304, 0.0157415 , 0.01549574,\n         0.01534439, 0.01498064, 0.01476905, 0.01428784, 0.01401888,\n         0.01342597, 0.01310283, 0.01240524, 0.01203175, 0.01123774,\n         0.01081831, 0.00993727, 0.00947687, 0.00851922, 0.0080233 ,\n         0.00700038, 0.0064748 , 0.00539871, 0.00484969, 0.00373317,\n         0.0031672 , 0.00202346, 0.00144725, 0.00028981]),\n  'dimless_t': 1.7999999999999998}}"
     },
     "execution_count": 93,
     "metadata": {},
     "output_type": "execute_result"
    }
   ],
   "source": [],
   "metadata": {
    "collapsed": false,
    "pycharm": {
     "name": "#%%\n"
    }
   }
  },
  {
   "cell_type": "code",
   "execution_count": null,
   "outputs": [],
   "source": [],
   "metadata": {
    "collapsed": false,
    "pycharm": {
     "name": "#%%\n"
    }
   }
  },
  {
   "cell_type": "markdown",
   "source": [
    "## What have we done?\n",
    "\n",
    "* We showed how the standard `ContactMechanicsBiot` model can be modified to build another \n",
    "models. In this case, we studied Terzaghi's consolidation model.\n",
    "* The numerical results obtained with MPFA/MPSA-FV showed good agreement with the exact \n",
    "solutions for several times.\n",
    "* The mechanical responses are also well-captured, as can be seen by analizing the degree of\n",
    " consolidation plot."
   ],
   "metadata": {
    "collapsed": false,
    "pycharm": {
     "name": "#%% md\n"
    }
   }
  }
 ],
 "metadata": {
  "kernelspec": {
   "display_name": "Python 3 (ipykernel)",
   "language": "python",
   "name": "python3"
  },
  "language_info": {
   "codemirror_mode": {
    "name": "ipython",
    "version": 3
   },
   "file_extension": ".py",
   "mimetype": "text/x-python",
   "name": "python",
   "nbconvert_exporter": "python",
   "pygments_lexer": "ipython3",
   "version": "3.9.13"
  }
 },
 "nbformat": 4,
 "nbformat_minor": 2
}