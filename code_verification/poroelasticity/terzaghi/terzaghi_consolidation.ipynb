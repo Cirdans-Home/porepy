{
 "cells": [
  {
   "cell_type": "markdown",
   "metadata": {},
   "source": [
    "# Terzaghi's consolidation problem"
   ]
  },
  {
   "cell_type": "markdown",
   "metadata": {},
   "source": [
    "This notebook shows how to set up Terzaghi's consolidation problem using MPFA/MPSA-FV by\n",
    "inhereting from the `ContactMechanicsBiot` model class.\n",
    "\n",
    "In addition, we will also learn to:\n",
    "* Set up roller boundary conditions for the mechanical (sub)problem.\n",
    "* Employ variable time steps using the time-stepping control routine to match desired scheduled times.\n",
    "\n",
    "Recommended previous examples:\n",
    "* Manufactured solution for Biot's problem\n",
    "\n",
    "Related examples:\n",
    "* Mandel's problem"
   ]
  },
  {
   "cell_type": "markdown",
   "metadata": {},
   "source": [
    "## Description of the problem"
   ]
  },
  {
   "cell_type": "markdown",
   "metadata": {},
   "source": [
    "Terzaghi's problem is a well known one-dimensional consolidation process [[1-2](#References)].\n",
    "Generally, when soils are subjected to a vertical load, porosity decreases, resulting in less\n",
    "available space for pore water. The liquid within the pores can be expelled, however, in certain\n",
    "types of soils (especially clayey soils) this process may take some time due to their low\n",
    "permeability. This process is referred to as _consolidation_.\n",
    "\n",
    "We consider a soil column of height $h$ (see left figure from below). We apply a\n",
    "constant load $F$ to the top of the column while keeping the bottom impervious to flow. The\n",
    "exherted load will cause an instantaneous rise in the fluid pressure, which will be equal to the\n",
    "applied load. After that, the fluid pressure will montonically decrease to zero.\n",
    "\n",
    "In order to emulate the one-dimensional consolidation process using a two-dimensional domain,\n",
    "on the sides of domain, we use impose roller boundary conditions for the mechanics and no-flux\n",
    "for the flow subproblems, respectively. We therefore expect the horizontal component of the\n",
    "displacement to be zero at all times.\n",
    "\n",
    "<img src=\"fig/domain_and_bc.svg\" alt=\"Terzaghi's consolidation problem\" style=\"width: 600px;\"/>"
   ]
  },
  {
   "cell_type": "markdown",
   "metadata": {},
   "source": [
    "## The analytical solution"
   ]
  },
  {
   "cell_type": "markdown",
   "metadata": {},
   "source": [
    "The analytical solution to Terzaghi's consolidation can be found in [[3](#References)]. The\n",
    "pressure distribution reads:\n",
    "\n",
    "\\begin{equation}\n",
    "    p(y,t) = \\frac{4}{\\pi} p_0 \\sum_{j=1}^{\\infty} \\frac{(-1)^{j-1}}{2j-1} \\cos\n",
    "    \\left[(2j-1)\\frac{\\pi}{2}\\frac{y}{h} \\right] \\exp\n",
    "    \\left[-(2j-1)^2 \\frac{\\pi^2}{4} \\frac{c_f t}{h^2} \\right],\n",
    "\\end{equation}\n",
    "\n",
    "where $p_0 = p(y,0) = F$ and $c_f$ is the so-called _coefficient of consolidation_.\n",
    "\n",
    "The mechanical effects can be studied introducing the concept of _degree of consolidation_, a\n",
    "dimensionless measure of the state of consolidation, ranging from $0$ (for an unconsolidated\n",
    "state) to $1$ (for a fully consolidated state). The degree of consolidation is given by:\n",
    "\n",
    "\\begin{equation}\n",
    "    U(t) = \\frac{u_y - u_{y,0}}{u_{y,\\infty} - u_{y,0}} = 1 - \\frac{8}{\\pi^2}\n",
    "    \\sum_{k=1}^{\\infty} \\frac{1}{(2k-1)^2}\n",
    "\\exp\\left[-(2k-1)^2 \\frac{\\pi^2}{4} \\frac{c_f t}{h^2}\\right],\n",
    "\\end{equation}\n",
    "\n",
    "where $u_{y,\\infty} = {hF}/({2\\mu_s + \\lambda_s})$ is the final vertical displacement and\n",
    "$u_{y,0} = 0$ is the initial displacement. The parameters $\\mu_s$ and $\\lambda_s$ are the usual\n",
    "Lamé parameters."
   ]
  },
  {
   "cell_type": "markdown",
   "metadata": {},
   "source": [
    "## Model setup and physical parameters"
   ]
  },
  {
   "cell_type": "markdown",
   "metadata": {},
   "source": [
    "The adopted domain will be a unit square $\\Omega = (0,1)^2~\\mathrm{m}^2$ for a final simulation\n",
    "time $T = 600~\\mathrm{s}$. The domain is discretized in space using an unstuctured triangular\n",
    "grid. To capture the entire consolidation process, we employ a varying time-stepping strategy\n",
    " using the class `pp.TimeSteppingControl` available in PorePy. We will develop on this later.\n",
    "\n",
    "The physical parameters used in the simulation are listed below:\n",
    "\n",
    "**Parameter** | **Symbol** | **Value** | **Unit**\n",
    "----------:|:----------:|:----------:|:----------:\n",
    "First Lamé parameter| $\\lambda_s$ | $1$ | $\\mathrm{Pa}$\n",
    "Second Lamé parameter| $\\mu_s$ | $1$ | $\\mathrm{Pa}$\n",
    "Intrinsic permeability | $\\mathbf{k}$ | $0.001\\mathbf{I}$ | $\\mathrm{m^2}$\n",
    "Fluid density | $\\rho_f$ | $1$ | $\\mathrm{m^3}$\n",
    "Fluid viscosity | $\\mu_f$ | $1$ | $\\mathrm{Pa \\cdot s}$ \n",
    "Storativity | $S_\\varepsilon$ | $0$ | $\\mathrm{Pa^{-1}}$\n",
    "Biot coefficient | $\\alpha$ | $1$ | $\\mathrm{-}$\n",
    "Aplied load | $F$ | $1$ | $\\mathrm{N}$"
   ]
  },
  {
   "cell_type": "markdown",
   "metadata": {},
   "source": [
    "## References"
   ]
  },
  {
   "cell_type": "markdown",
   "metadata": {},
   "source": [
    "[1] von Terzaghi, K. (1923). Die berechnung der durchassigkeitsziffer des tones aus dem verlauf\n",
    "der hydrodynamischen spannungs. erscheinungen. Sitzungsber. Akad. Wiss. Math. Naturwiss. Kl.\n",
    "Abt. 2A, 132, 105-124.\n",
    "\n",
    "[2] von Terzaghi, K. (1944). Theoretical Soil Mechanics.\n",
    "\n",
    "[3] Verruijt, A. (2017). An Introduction to Soil Mechanics (Vol. 30). Springer."
   ]
  },
  {
   "cell_type": "markdown",
   "metadata": {},
   "source": [
    "## Importing modules"
   ]
  },
  {
   "cell_type": "code",
   "execution_count": 1,
   "metadata": {
    "pycharm": {
     "name": "#%%\n"
    }
   },
   "outputs": [],
   "source": [
    "import numpy as np\n",
    "import porepy as pp\n",
    "import matplotlib.pyplot as plt\n",
    "import matplotlib.colors as mcolors\n",
    "\n",
    "from time import time\n",
    "from terzaghi_utils import TerzaghiUtilities"
   ]
  },
  {
   "cell_type": "markdown",
   "metadata": {},
   "source": [
    "## The Terzaghi model class"
   ]
  },
  {
   "cell_type": "markdown",
   "metadata": {},
   "source": [
    "Let us start constructing the `Terzaghi` model class by inhereting from the\n",
    "`pp.ContactMechanicsBiot` class. Several methods will be overriden and new\n",
    "ones will have to be created. We offer and in-depth explanation of such methods below. To have\n",
    "the possibiliy to add Markdown comments and explanations _between_ class methods, we avoid\n",
    "writing the whole class in a single notebook cell and rather succesively inherit from the `Terzaghi` class\n",
    "itself. You will of course not do this if you wish to write your own model."
   ]
  },
  {
   "cell_type": "code",
   "execution_count": 2,
   "metadata": {
    "pycharm": {
     "name": "#%%\n"
    }
   },
   "outputs": [],
   "source": [
    "class Terzaghi(pp.ContactMechanicsBiot):\n",
    "    \"\"\"Parent class for Terzaghi's consolidation problem model.\"\"\"\n",
    "\n",
    "    def __init__(self, params: dict):\n",
    "        \"\"\"\n",
    "\n",
    "        Args:\n",
    "            params: Model parameters.\n",
    "\n",
    "        Mandatory model parameters:\n",
    "            height (float): Height of the domain.\n",
    "            vertical_load (float): Applied vertical load.\n",
    "            time_stepping_object (pp.TimeSteppingControl): Time stepping control object.\n",
    "\n",
    "        Optional model parameters:\n",
    "            mesh_size (float, Default is 0.1): Mesh size.\n",
    "            upper_limit (int, Default is 1000): Upper limit of summation for computing exact solutions.\n",
    "\n",
    "        \"\"\"\n",
    "        super().__init__(params)\n",
    "\n",
    "        self.tsc = self.params[\"time_stepping_object\"]\n",
    "        self.time = self.tsc.time_init\n",
    "        self.end_time = self.tsc.time_final\n",
    "        self.time_step = self.tsc.dt\n",
    "\n",
    "        # Create a solution dictionary to store pressure and displacement solutions\n",
    "        self.sol = {t: {} for t in self.tsc.schedule}"
   ]
  },
  {
   "cell_type": "markdown",
   "metadata": {},
   "source": [
    "Although Terzaghi's problem is strictly speaking a one-dimensional process, we\n",
    "can still mimic the one-dimensional process using a two-dimensional grid. To this aim, we create\n",
    "an unstructured, unfractured mesh. The method accesses the `mesh_size` field available in\n",
    "`params` if available, or sets the mesh size to `0.1` otherwise."
   ]
  },
  {
   "cell_type": "code",
   "execution_count": 3,
   "metadata": {
    "pycharm": {
     "name": "#%%\n"
    }
   },
   "outputs": [],
   "source": [
    "class Terzaghi(Terzaghi):\n",
    "    \"\"\"Terzaghi class with non-default grid\"\"\"\n",
    "\n",
    "    def create_grid(self) -> None:\n",
    "        \"\"\"Create two-dimensional unstructured mixed-dimensional grid.\"\"\"\n",
    "        height = self.params[\"height\"]\n",
    "        mesh_size = self.params.get(\"mesh_size\", 0.1)\n",
    "        self.box = {\"xmin\": 0.0, \"xmax\": height, \"ymin\": 0.0, \"ymax\": height}\n",
    "        network_2d = pp.FractureNetwork2d(None, None, self.box)\n",
    "        mesh_args = {\"mesh_size_bound\": mesh_size, \"mesh_size_frac\": mesh_size}\n",
    "        self.mdg = network_2d.mesh(mesh_args)"
   ]
  },
  {
   "cell_type": "markdown",
   "metadata": {},
   "source": [
    "The initial conditions for this problem corresponds to an originally undeformed state\n",
    "(displacement equal to zero), whereas the pressure instantaneously equals the value of the\n",
    "applied vertical load $F$. We will therefore only need to override the initial pressure."
   ]
  },
  {
   "cell_type": "code",
   "execution_count": 4,
   "metadata": {
    "pycharm": {
     "name": "#%%\n"
    }
   },
   "outputs": [],
   "source": [
    "class Terzaghi(Terzaghi):\n",
    "    \"\"\"Terzaghi class with non-default inital conditions\"\"\"\n",
    "\n",
    "    def _initial_condition(self) -> None:\n",
    "        \"\"\"Override initial condition for the flow subproblem.\"\"\"\n",
    "        super()._initial_condition()\n",
    "        sd = self.mdg.subdomains()[0]\n",
    "        data = self.mdg.subdomain_data(sd)\n",
    "        vertical_load = self.params[\"vertical_load\"]\n",
    "        initial_p = vertical_load * np.ones(sd.num_cells)\n",
    "        data[pp.STATE][self.scalar_variable] = initial_p\n",
    "        data[pp.STATE][pp.ITERATE][self.scalar_variable] = initial_p"
   ]
  },
  {
   "cell_type": "markdown",
   "metadata": {},
   "source": [
    "We now focus on the boundary conditions types. For the flow subproblem, all the sides are\n",
    "set as no-flux, except the top side, where a constant pressure is prescribed. Thus, we set\n",
    "the east, west, and south sides of the domain as Neumann, and at the north side as Dirichlet.\n",
    "\n",
    "For the mechanics subproblem, we prescibe roller boundary conditions at the east, west, and\n",
    "south sides of the domain, and Neumann at the north side. Roller boundary\n",
    "conditions will essentially *clamp* a boundary face in the normal direction, while keeping \n",
    "the boundary face at stress-free conditions in the tangential direction."
   ]
  },
  {
   "cell_type": "code",
   "execution_count": 5,
   "metadata": {
    "pycharm": {
     "name": "#%%\n"
    }
   },
   "outputs": [],
   "source": [
    "class Terzaghi(Terzaghi):\n",
    "    \"\"\"Terzaghi class with non-default boundary condition types\"\"\"\n",
    "\n",
    "    def _bc_type_scalar(self, sd: pp.Grid) -> pp.BoundaryCondition:\n",
    "        \"\"\"Define boundary condition types for the flow subproblem.\n",
    "\n",
    "        Args:\n",
    "            sd: Subdomain grid.\n",
    "\n",
    "        Returns:\n",
    "            bc: Scalar boundary condition representation.\n",
    "\n",
    "        \"\"\"\n",
    "\n",
    "        # Define boundary regions\n",
    "        all_bc, _, _, north, *_ = self._domain_boundary_sides(sd)\n",
    "        north_bc = np.isin(all_bc, np.where(north)).nonzero()\n",
    "\n",
    "        # All sides Neumann, except the North which is Dirichlet\n",
    "        bc_type = np.asarray(all_bc.size * [\"neu\"])\n",
    "        bc_type[north_bc] = \"dir\"\n",
    "\n",
    "        bc = pp.BoundaryCondition(sd, faces=all_bc, cond=bc_type)\n",
    "\n",
    "        return bc\n",
    "\n",
    "    def _bc_type_mechanics(self, sd: pp.Grid) -> pp.BoundaryConditionVectorial:\n",
    "        \"\"\"Define boundary condition types for the mechanics subproblem\n",
    "\n",
    "        Args:\n",
    "            sd: Subdomain grid.\n",
    "\n",
    "        Returns:\n",
    "            bc: Vectorial boundary condition representation.\n",
    "\n",
    "        \"\"\"\n",
    "\n",
    "        # Inherit bc from parent class. This sets all bc faces as Dirichlet.\n",
    "        super()._bc_type_mechanics(sd=sd)\n",
    "\n",
    "        # Get boundary sides, retrieve data dict, and bc object\n",
    "        _, east, west, north, south, *_ = self._domain_boundary_sides(sd)\n",
    "        data = self.mdg.subdomain_data(sd)\n",
    "        bc = data[pp.PARAMETERS][self.mechanics_parameter_key][\"bc\"]\n",
    "\n",
    "        # East side: Roller\n",
    "        bc.is_neu[1, east] = True\n",
    "        bc.is_dir[1, east] = False\n",
    "\n",
    "        # West side: Roller\n",
    "        bc.is_neu[1, west] = True\n",
    "        bc.is_dir[1, west] = False\n",
    "\n",
    "        # North side: Neumann\n",
    "        bc.is_neu[:, north] = True\n",
    "        bc.is_dir[:, north] = False\n",
    "\n",
    "        # South side: Roller\n",
    "        bc.is_neu[0, south] = True\n",
    "        bc.is_dir[0, south] = False\n",
    "\n",
    "        return bc"
   ]
  },
  {
   "cell_type": "markdown",
   "metadata": {},
   "source": [
    "Now that the boundary condition *type* has been prescribed, we can impose the boundary\n",
    "condition values. This is done by overriding the methods `bc_values_scalar()` and\n",
    "`bc_values_mechanics()`. The default methods (as inhereted from `ContactMechanicsBiot`) impose\n",
    " zero values. This means that we only actually need to modify the north boundary side value\n",
    " of the mechanics subproblem to set the corresponding vertical load.\n",
    "\n",
    "An important point to recall is that Neumann boundary conditions must be given in \n",
    "integrated form. To be precise, we need the integrated traction force on the north side \n",
    "of the domain:\n",
    "\n",
    "\\begin{equation*}\n",
    "\\int_{\\Gamma_{\\mathrm{north}}} \\sigma \\cdot \\mathbf{n}~ \\mathrm{d}S\n",
    "= \\int_{\\Gamma_{\\mathrm{north}}} \\mathbf{T} ~\\mathrm{d}S.\n",
    "\\end{equation*}\n",
    "\n",
    "Recall that $\\mathbf{\\sigma}$ is the Biot stress tensor, $\\mathbf{n}$ is the\n",
    "outward-pointing normal vector on the boundary $\\Gamma_{\\mathrm{north}}$, and $\\mathbf{T}$\n",
    "the traction force.\n",
    "\n",
    "In the horizontal direction, the boundary is subjected to stress-free conditions and thus the\n",
    "above integral evaluates to zero. In the vertical direction, on the other hand, we have\n",
    "to apply the prescribed vertical force:\n",
    "\n",
    "\\begin{equation*}\n",
    "\\int_{\\Gamma_{\\mathrm{north}}} T_y ~\\mathrm{d}S =\n",
    "\\sum_{e\\in\\mathcal{T}_{\\mathrm{north}}} - F |e|.\n",
    "\\end{equation*}\n",
    "\n",
    "Note that this equality _only holds_ since the applied load $F$ is constant (and the\n",
    "integral can therefore be trivially evaluated). The negative sign comes from the fact that\n",
    "the applied force is compressive. In practice, the total (integrated) load will be\n",
    "equally distributed in each face $e$ from the simplicial partition\n",
    "$\\mathcal{T}_{\\mathrm{north}}$ of the north boundary (see Saint-Venant's principle)."
   ]
  },
  {
   "cell_type": "code",
   "execution_count": 6,
   "metadata": {
    "pycharm": {
     "name": "#%%\n"
    }
   },
   "outputs": [],
   "source": [
    "class Terzaghi(Terzaghi):\n",
    "    \"\"\"Terzaghi class with non-default boundary condition values\"\"\"\n",
    "\n",
    "    def _bc_values_mechanics(self, sd: pp.Grid) -> np.ndarray:\n",
    "        \"\"\"Set boundary condition values for the mechanics subproblem.\n",
    "\n",
    "        Args:\n",
    "            sd: Subdomain grid.\n",
    "\n",
    "        Returns:\n",
    "            bc_values (sd.dim * sd.num_faces): Containing the boundary condition values.\n",
    "\n",
    "        \"\"\"\n",
    "\n",
    "        # Retrieve boundary sides\n",
    "        _, _, _, north, *_ = self._domain_boundary_sides(sd)\n",
    "\n",
    "        # All zeros except vertical component of the north side\n",
    "        vertical_load = self.params[\"vertical_load\"]\n",
    "        bc_values = np.array([np.zeros(sd.num_faces), np.zeros(sd.num_faces)])\n",
    "        bc_values[1, north] = -vertical_load * sd.face_areas[north]\n",
    "        bc_values = bc_values.ravel(\"F\")\n",
    "\n",
    "        return bc_values"
   ]
  },
  {
   "cell_type": "markdown",
   "metadata": {},
   "source": [
    "Now, we prescribe the values of permeability and storativity by overriding the methods\n",
    "`_permeability()` and `_storativity()`."
   ]
  },
  {
   "cell_type": "code",
   "execution_count": 7,
   "metadata": {
    "pycharm": {
     "name": "#%%\n"
    }
   },
   "outputs": [],
   "source": [
    "class Terzaghi(Terzaghi):\n",
    "    \"\"\"Terzaghi class with non-default physical parameters\"\"\"\n",
    "\n",
    "    def _permeability(self, sd: pp.Grid) -> np.ndarray:\n",
    "        \"\"\"Overried value of intrinsic permeability [m^2].\n",
    "\n",
    "        Args:\n",
    "            sd: Subdomain grid.\n",
    "\n",
    "        Returns:\n",
    "            permeability (sd.num_cells): containing the permeability values at each cell.\n",
    "\n",
    "        \"\"\"\n",
    "\n",
    "        permeability = 0.001 * np.ones(sd.num_cells)\n",
    "\n",
    "        return permeability\n",
    "\n",
    "    def _storativity(self, sd: pp.Grid) -> np.ndarray:\n",
    "        \"\"\"Override value of storativity [Pa^{-1}].\n",
    "\n",
    "        Args:\n",
    "            sd: Subdomain grid.\n",
    "\n",
    "        Returns:\n",
    "            storativity (sd.num_cells): containing the storativity values at each cell.\n",
    "\n",
    "        \"\"\"\n",
    "\n",
    "        storativity = np.zeros(sd.num_cells)\n",
    "\n",
    "        return storativity"
   ]
  },
  {
   "cell_type": "markdown",
   "metadata": {
    "pycharm": {
     "name": "#%% md\n"
    }
   },
   "source": [
    "Finally, we need to adjust the value of the time step to match the scheduled times. To this\n",
    "aim, we use the `tsc` instance of the `TimeSteppingControl` class. To determine the value of\n",
    "the next time step, we use the method `next_time_step`. The method will increase the time\n",
    "step size when the number of iterations is below an optimal lower iteration range. Since\n",
    "this problem is linear, we can hardcode the number of iterations to 1, forcing the algorithm to\n",
    "multiply the previous time step size by a lower multiplication factor (say e.g., 1.3).\n",
    "In order to avoid having too large time steps, a maximum time step size should be prescribed. \n",
    "For further details, see the documentation of the `pp.TimeSteppingControl`."
   ]
  },
  {
   "cell_type": "code",
   "execution_count": 8,
   "metadata": {
    "pycharm": {
     "name": "#%%\n"
    }
   },
   "outputs": [],
   "source": [
    "class Terzaghi(Terzaghi):\n",
    "    \"\"\"Terzaghi class with variable time step\"\"\"\n",
    "\n",
    "    def before_newton_loop(self):\n",
    "        super().before_newton_loop()\n",
    "\n",
    "        # Update time for the time-stepping control routine\n",
    "        self.tsc.time += self.time_step\n",
    "\n",
    "    def after_newton_convergence(\n",
    "        self,\n",
    "        solution: np.ndarray,\n",
    "        errors: float,\n",
    "        iteration_counter: int,\n",
    "    ) -> None:\n",
    "        super().after_newton_convergence(solution, errors, iteration_counter)\n",
    "\n",
    "        # Adjust time step\n",
    "        self.time_step = self.tsc.next_time_step(1, recompute_solution=False)\n",
    "        self._ad.time_step._value = self.time_step\n",
    "\n",
    "        # Store solutions\n",
    "        sd = self.mdg.subdomains()[0]\n",
    "        data = self.mdg.subdomain_data(sd)\n",
    "        if self.time in self.tsc.schedule[1:]:\n",
    "            model.sol[self.time][\"u_num\"] = data[pp.STATE][self.displacement_variable]\n",
    "            model.sol[self.time][\"p_num\"] = data[pp.STATE][self.scalar_variable]"
   ]
  },
  {
   "cell_type": "markdown",
   "metadata": {
    "pycharm": {
     "name": "#%% md\n"
    }
   },
   "source": [
    "## Running the model"
   ]
  },
  {
   "cell_type": "markdown",
   "metadata": {
    "pycharm": {
     "name": "#%% md\n"
    }
   },
   "source": [
    "To run the model, we need to create the `model_params` dictionary, containing the model parameters. Mandatory fields are `height`, `vertical_load`, and a valid `time_stepping_object`. Optional model parameters are `mesh_size` and `upper_limit`. Refer to the `__init__()` method of the `Terzaghi` class."
   ]
  },
  {
   "cell_type": "code",
   "execution_count": 9,
   "metadata": {
    "pycharm": {
     "name": "#%%\n"
    }
   },
   "outputs": [
    {
     "name": "stdout",
     "output_type": "stream",
     "text": [
      "Simulation started...\n",
      "\n",
      "Simulation finished in 33.5 seconds.\n"
     ]
    }
   ],
   "source": [
    "# Create time-stepping object\n",
    "tsc = pp.TimeSteppingControl(\n",
    "    schedule=[0.0, 0.15, 2.5, 8.0, 18.0, 33.0, 73.0, 128.0, 233.0, 600.0],\n",
    "    dt_init=0.05,\n",
    "    dt_min_max=(0.05, 4.0),\n",
    "    iter_lowupp_factor=(1.3, 0.7),\n",
    "    print_info=False,\n",
    ")\n",
    "\n",
    "# Create model parameters dictionary\n",
    "model_params = {\n",
    "    \"use_ad\": True,\n",
    "    \"height\": 1.0,\n",
    "    \"mesh_size\": 0.04,\n",
    "    \"vertical_load\": 1.0,\n",
    "    \"time_stepping_object\": tsc,\n",
    "}\n",
    "\n",
    "# Run simulation\n",
    "print(\"Simulation started...\")\n",
    "tic = time()\n",
    "model = Terzaghi(model_params)\n",
    "pp.run_time_dependent_model(model, model_params)\n",
    "print(f\"Simulation finished in {round(time() - tic, 1)} seconds.\")"
   ]
  },
  {
   "cell_type": "markdown",
   "metadata": {
    "pycharm": {
     "name": "#%% md\n"
    }
   },
   "source": [
    "## Postprocessing the results\n"
   ]
  },
  {
   "cell_type": "markdown",
   "metadata": {
    "pycharm": {
     "name": "#%% md\n"
    }
   },
   "source": [
    "To be able to visualize the results, we need to postprocess the results. To this aim, we\n",
    "first instatiate the `utils` object from the `TerzaghiUtilities` class. This class contains\n",
    "utility functions, including the exact solutions to the problem.\n",
    "\n",
    "The postprocessing of the results is performed mostly _under the hood_. In particular, we make use of the methods `dimless_p_ex()`, `dimless_p_num()`, `consol_deg_ex()`, `consol_deg_num()`, and `dimless_t()`, which compute the exact dimensionless pressure, numerical dimensionless pressures, exact degree of consolidation, numerical degree of consolidation, and dimensionless time, respectively. The quantites of interest are then stored in the `model.sol` dictionary. "
   ]
  },
  {
   "cell_type": "code",
   "execution_count": 10,
   "metadata": {
    "pycharm": {
     "name": "#%%\n"
    }
   },
   "outputs": [],
   "source": [
    "utils = TerzaghiUtilities(model)\n",
    "for idx, t in enumerate(model.tsc.schedule[1:]):\n",
    "    model.sol[t][\"dimless_p_ex\"] = utils.dimless_p_ex(t)\n",
    "    model.sol[t][\"dimless_p_num\"] = utils.dimless_p_num(model.sol[t][\"p_num\"])\n",
    "    model.sol[t][\"consol_deg_ex\"] = utils.consol_deg_ex(t)\n",
    "    model.sol[t][\"consol_deg_num\"] = utils.consol_deg_num(model.sol[t][\"u_num\"], model.sol[t][\"p_num\"])\n",
    "    model.sol[t][\"dimless_t\"] = utils.dimless_t(t)"
   ]
  },
  {
   "cell_type": "markdown",
   "metadata": {
    "pycharm": {
     "name": "#%% md\n"
    }
   },
   "source": [
    "## Visualizing the results"
   ]
  },
  {
   "cell_type": "markdown",
   "metadata": {
    "pycharm": {
     "name": "#%% md\n"
    }
   },
   "source": [
    "We are now in position to visualize the results. Let us first plot the dimensionless pressure profiles for\n",
    "the scheduled times. The exact profiles are shown in solid lines whereas the profiles obtained with MPFA/MPSA-FV are depicted with dots. \n",
    "\n",
    "Better matching with the exact solution can be obtained by either refining the grid or decreasing the time step."
   ]
  },
  {
   "cell_type": "code",
   "execution_count": 11,
   "metadata": {
    "pycharm": {
     "name": "#%%\n"
    }
   },
   "outputs": [
    {
     "data": {
      "image/png": "[encoded data removed]",
      "text/plain": [
       "<Figure size 648x576 with 1 Axes>"
      ]
     },
     "metadata": {
      "needs_background": "light"
     },
     "output_type": "display_data"
    }
   ],
   "source": [
    "cmap = mcolors.ListedColormap(plt.cm.tab10.colors[: len(model.tsc.schedule)])\n",
    "fig, ax = plt.subplots(figsize=(9, 8))\n",
    "\n",
    "for idx, t in enumerate(model.tsc.schedule[1:]):\n",
    "    ax.plot(\n",
    "        model.sol[t][\"dimless_p_ex\"], \n",
    "        utils.dimless_y, \n",
    "        color=cmap.colors[idx]\n",
    "    )\n",
    "    ax.plot(\n",
    "        model.sol[t][\"dimless_p_num\"], \n",
    "        utils.dimless_y, \n",
    "        color=cmap.colors[idx],\n",
    "        linewidth=0,\n",
    "        marker=\".\",\n",
    "        markersize=12,\n",
    "    )\n",
    "    ax.plot(\n",
    "        [],\n",
    "        [],\n",
    "        color=cmap.colors[idx],\n",
    "        linewidth=0,\n",
    "        marker=\"s\",\n",
    "        markersize=12,\n",
    "        label=rf\"$t =$ {t}\",\n",
    "    )\n",
    "ax.set_xlabel(r\"$p/p_0$\", fontsize=15)\n",
    "ax.set_ylabel(r\"$y/h$\", fontsize=15)\n",
    "pos = ax.get_position()\n",
    "ax.set_position([pos.x0, pos.y0, pos.width * 0.9, pos.height])\n",
    "ax.legend(loc=\"center right\", bbox_to_anchor=(1.30, 0.5), fontsize=13)\n",
    "ax.set_title(\"Dimensionless pressure profiles for several times\", fontsize=16)\n",
    "ax.grid()\n",
    "plt.show()"
   ]
  },
  {
   "cell_type": "markdown",
   "metadata": {
    "pycharm": {
     "name": "#%% md\n"
    }
   },
   "source": [
    "To check the mechanical response, we now focus our attention to the degree of consolidation."
   ]
  },
  {
   "cell_type": "code",
   "execution_count": 13,
   "metadata": {
    "pycharm": {
     "name": "#%%\n"
    }
   },
   "outputs": [
    {
     "data": {
      "image/png": "[encoded data removed]",
      "text/plain": [
       "<Figure size 648x576 with 1 Axes>"
      ]
     },
     "metadata": {
      "needs_background": "light"
     },
     "output_type": "display_data"
    }
   ],
   "source": [
    "consol_deg_ex = np.asarray([model.sol[t][\"consol_deg_ex\"] for t in model.tsc.schedule[1:]])\n",
    "consol_deg_num = np.asarray([model.sol[t][\"consol_deg_num\"] for t in model.tsc.schedule[1:]])\n",
    "dimless_times = np.asarray([model.sol[t][\"dimless_t\"] for t in model.tsc.schedule[1:]])\n",
    "\n",
    "fig, ax = plt.subplots(figsize=(9, 8))\n",
    "ax.semilogx(\n",
    "    dimless_times, \n",
    "    consol_deg_ex, \n",
    "    color=cmap.colors[0], \n",
    "    label=\"Exact\"\n",
    ")\n",
    "ax.semilogx(\n",
    "    dimless_times,\n",
    "    consol_deg_num,\n",
    "    color=cmap.colors[0],\n",
    "    linewidth=0,\n",
    "    marker=\".\",\n",
    "    markersize=12,\n",
    "    label=\"Numerical\",\n",
    ")\n",
    "ax.set_xlabel(r\"$c_f t / h^2$\", fontsize=15)\n",
    "ax.set_ylabel(r\"$U(t)$\", fontsize=15)\n",
    "ax.legend(fontsize=14)\n",
    "ax.set_title(\"Degree of consolidation vs. dimensionless time\", fontsize=16)\n",
    "ax.grid()\n",
    "plt.show()"
   ]
  },
  {
   "cell_type": "markdown",
   "metadata": {
    "pycharm": {
     "name": "#%% md\n"
    }
   },
   "source": [
    "## What have we done?\n",
    "\n",
    "* We showed how the standard `ContactMechanicsBiot` model can be modified to build another\n",
    "models. In this case, we studied Terzaghi's consolidation model.\n",
    "* The approximated pressures obtained with MPFA/MPSA-FV showed good agreement with the exact\n",
    "solutions in several stages of the consolidation process.\n",
    "* The mechanical responses are also well-captured as comparing the exact and numerical degrees of consolidation."
   ]
  }
 ],
 "metadata": {
  "kernelspec": {
   "display_name": "Python 3 (ipykernel)",
   "language": "python",
   "name": "python3"
  },
  "language_info": {
   "codemirror_mode": {
    "name": "ipython",
    "version": 3
   },
   "file_extension": ".py",
   "mimetype": "text/x-python",
   "name": "python",
   "nbconvert_exporter": "python",
   "pygments_lexer": "ipython3",
   "version": "3.9.13"
  },
  "pycharm": {
   "stem_cell": {
    "cell_type": "raw",
    "metadata": {
     "collapsed": false
    },
    "source": [
     "%load_ext autoreload\n",
     "%autoreload 2\n"
    ]
   }
  }
 },
 "nbformat": 4,
 "nbformat_minor": 2
}
