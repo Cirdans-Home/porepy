{
 "cells": [
  {
   "cell_type": "markdown",
   "id": "8f903509",
   "metadata": {},
   "source": [
    "# Manufactured solution for Biot equations"
   ]
  },
  {
   "cell_type": "markdown",
   "id": "4f6302fa",
   "metadata": {},
   "source": [
    "## The model problem"
   ]
  },
  {
   "cell_type": "markdown",
   "id": "156d67cf",
   "metadata": {},
   "source": [
    "We consider the standard quasi-static Biot model (Lewis and Schrefler, 1998) posed in a domain $\\Omega \\subset \\mathbb{R}^2$ with Lipschitz boundary $\\partial\\Omega$. We are interested in approximating the solution with MPFA/MPSA-FV (Nordbotten, 2016) on a time interval $(0,T)$, such that\n",
    "\n",
    "$$\n",
    "\\begin{align}\n",
    "\\nabla \\cdot \\sigma - \\mathbf{f}_s &= 0, \\qquad &\\mathrm{in}\\,\\Omega\\times (0,T), \\\\\n",
    "\\sigma - \\mu_s \\left(\\nabla \\mathbf{u} + (\\nabla \\mathbf{u})^T\\right) -  \\lambda_s \\left(\\nabla \\cdot \\mathbf{u}\\right)\\mathbf{I} + \\alpha p \\mathbf{I} &= 0, \\qquad &\\mathrm{in}\\,\\Omega\\times (0,T), \\\\\n",
    "S_\\phi \\frac{\\partial p}{\\partial t} + \\alpha \\frac{\\partial}{\\partial t} \\left(\\nabla \\cdot \\mathbf{u}\\right) + \\nabla \\cdot \\mathbf{q} - f_f &= 0, \\qquad &\\mathrm{in}\\,\\Omega\\times (0,T), \\\\\n",
    "\\mathbf{q} + \\frac{\\mathbf{k}}{\\mu_f} \\nabla p &= 0 \\qquad &\\mathrm{in}\\,\\Omega\\times (0,T), \\\\\n",
    "\\end{align}\n",
    "$$\n",
    "\n",
    "where $\\sigma$ is the Biot (total) stress, $\\mathbf{f}_s$ are the body forces (mechanical sources), $\\mathbf{u}$ is the displacement, $\\lambda_s$ and $\\mu_s$ are the usual Lamé parameters, $p$ is the fluid pressure, $S_\\phi$ is the storavitiy, $\\alpha$ is the Biot coefficient, $\\mathbf{q}$ is the Darcy's velocity, $\\mathbf{k}$ is the intrinsic permeability, and $\\mu_f$ is the dynamic viscosity of the fluid.\n",
    "\n",
    "The model is subjected to the following boundary conditions\n",
    "\n",
    "$$\n",
    "\\begin{align}\n",
    "\\mathbf{u} &= \\mathbf{g}_{\\mathbf{u}, D},  \\qquad &\\mathrm{on}\\,\\Gamma_{\\mathbf{u}, D}\\times (0,T), \\\\\n",
    "\\sigma \\cdot \\mathbf{n} &= \\mathbf{g}_{\\mathbf{u}, N},  \\qquad &\\mathrm{on}\\,\\Gamma_{\\mathbf{u}, N}\\times (0,T), \\\\\n",
    "p &= g_{p, D},  \\qquad &\\mathrm{on}\\,\\Gamma_{p, D}\\times (0,T), \\\\\n",
    "\\mathbf{q} \\cdot \\mathbf{n} &= g_{p, N},  \\qquad &\\mathrm{on}\\,\\Gamma_{p, N}\\times (0,T),\n",
    "\\end{align}\n",
    "$$\n",
    "\n",
    "for two partitions $\\overline{\\Gamma}_{\\mathbf{u}, D} \\cup \\overline{\\Gamma}_{\\mathbf{u}, N} = \\overline{\\Gamma}_{p, D} \\cup \\overline{\\Gamma}_{p, N} = \\partial\\Omega,\n",
    "$, and complemented with initial conditions\n",
    "\n",
    "$$\n",
    "\\begin{align}\n",
    "\\mathbf{u} &= \\mathbf{u}_0, \\qquad &\\mathrm{in}\\,\\Omega\\times\\{0\\}, \\\\\n",
    "p &= p_0, \\qquad &\\mathrm{in}\\,\\Omega\\times\\{0\\}.\n",
    "\\end{align}\n",
    "$$ \n",
    "\n",
    "**References**\n",
    "\n",
    "Lewis, R. W., Lewis, R. W., & Schrefler, B. A. (1998). The finite element method in the static and dynamic deformation and consolidation of porous media. John Wiley & Sons.\n",
    "\n",
    "Nordbotten, J. M. (2016). Stable cell-centered finite volume discretization for Biot equations. SIAM Journal on Numerical Analysis, 54(2), 942-968."
   ]
  },
  {
   "cell_type": "markdown",
   "id": "c930ff90",
   "metadata": {},
   "source": [
    "## Manufactured solution"
   ]
  },
  {
   "cell_type": "markdown",
   "id": "2ab25109",
   "metadata": {},
   "source": [
    "Let $\\Omega = (0,1)^2$ and $T = 1$. For the sake of simplicity, all physical parameters are assumed equal to one. \n",
    "\n",
    "We assume the existence of a smooth displacement solution\n",
    "\n",
    "$$\n",
    "\\mathbf{u}(x,y,t) = t^2 \\pmatrix{x (1 - x) \\sin{(2 \\pi y)} \\\\ \\sin{(2 \\pi x)} \\sin{(2 \\pi y)}},\n",
    "$$\n",
    "\n",
    "and a smooth pressure solution\n",
    "\n",
    "$$\n",
    "p(x,y,t) = t^2 \\sin{(2 \\pi x)} \\cos{(2 \\pi y)}.\n",
    "$$\n",
    "\n",
    "Exact sources $\\mathbf{f}_s(x,y,t)$ and $f_f(x,y,t)$ can now be obtained. Boundary conditions satisfying the exact solutions are imposed in the Dirichlet parts of $\\partial\\Omega$, whereas normal stresses (tractions) and normal fluxes derived from the exact solutions are imposed on the Neumann parts of $\\partial \\Omega$ (see figure from below).\n",
    "\n",
    "<img src=\"biot_exact_sol.png\" style=\"width: 750px;\">\n",
    "\n",
    "Finally, initial conditions are imposed such that they satisfy the exact solutions, in this case, both the displacement and the pressure are initially zero. In the figure, we also show the exact solutions for the magnitude of the displacement (left) and the pressure (right).\n",
    "\n",
    "The corresponding source terms are given in the figure from below for the finest grid"
   ]
  },
  {
   "cell_type": "markdown",
   "id": "538d26dc",
   "metadata": {},
   "source": [
    "## Importing modules"
   ]
  },
  {
   "cell_type": "code",
   "execution_count": 1,
   "id": "d890f858",
   "metadata": {},
   "outputs": [],
   "source": [
    "import porepy as pp\n",
    "import numpy as np\n",
    "import scipy.sparse as sps\n",
    "import sympy as sym"
   ]
  },
  {
   "cell_type": "code",
   "execution_count": 2,
   "id": "bcfea13e",
   "metadata": {},
   "outputs": [],
   "source": [
    "class ManufacturedBiot(pp.ContactMechanicsBiot):\n",
    "    \"\"\"Manufactured Biot class\"\"\"\n",
    "              \n",
    "    def create_grid(self) -> None:\n",
    "        \"\"\"Create the grid bucket \"\"\"\n",
    "        self.box =  {\"xmin\": 0.0, \"xmax\": 1.0, \"ymin\": 0.0, \"ymax\": 1.0}\n",
    "        network_2d = pp.FractureNetwork2d(None, None, self.box)\n",
    "        mesh_args = {\"mesh_size_bound\": 0.1, \"mesh_size_frac\": 0.1}\n",
    "        self.gb: pp.GridBucket = network_2d.mesh(mesh_args)"
   ]
  },
  {
   "cell_type": "code",
   "execution_count": 3,
   "id": "886ebf5d",
   "metadata": {},
   "outputs": [],
   "source": [
    "params = {}\n",
    "model = ManufacturedBiot(params)\n",
    "model.create_grid()"
   ]
  },
  {
   "cell_type": "code",
   "execution_count": null,
   "id": "9beb1700",
   "metadata": {},
   "outputs": [],
   "source": [
    "pp.run_time_dependent_model(model, params)"
   ]
  },
  {
   "cell_type": "code",
   "execution_count": null,
   "id": "5b220454",
   "metadata": {},
   "outputs": [],
   "source": []
  }
 ],
 "metadata": {
  "kernelspec": {
   "display_name": "Python 3 (ipykernel)",
   "language": "python",
   "name": "python3"
  },
  "language_info": {
   "codemirror_mode": {
    "name": "ipython",
    "version": 3
   },
   "file_extension": ".py",
   "mimetype": "text/x-python",
   "name": "python",
   "nbconvert_exporter": "python",
   "pygments_lexer": "ipython3",
   "version": "3.9.13"
  }
 },
 "nbformat": 4,
 "nbformat_minor": 5
}
