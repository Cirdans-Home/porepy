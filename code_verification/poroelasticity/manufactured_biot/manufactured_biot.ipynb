{
 "cells": [
  {
   "cell_type": "markdown",
   "id": "68457cc6",
   "metadata": {},
   "source": [
    "# Manufactured solution for Biot equations of poroelasticity"
   ]
  },
  {
   "cell_type": "markdown",
   "id": "df43e54d",
   "metadata": {},
   "source": [
    "We consider the following quasi-static Biot model subject\n",
    "\n",
    "$$\n",
    "\\begin{align}\n",
    "\\nabla \\cdot \\sigma - \\mathbf{f}_s &= 0, \\qquad &\\mathrm{in}\\,\\Omega\\times (0,T), \\\\\n",
    "\\sigma - \\mu_s \\left(\\nabla \\mathbf{u} - (\\nabla \\cdot \\mathbf{u})^T\\right) -  \\lambda_s \\nabla \\cdot \\mathbf{u} + \\alpha p \\mathbf{I} &= 0, \\qquad &\\mathrm{in}\\,\\Omega\\times (0,T), \\\\\n",
    "S_\\phi \\frac{\\partial p}{\\partial t} + \\alpha \\frac{\\partial}{\\partial t} \\left(\\nabla \\cdot \\mathbf{u}\\right) + \\nabla \\cdot \\mathbf{q} - f_f &= 0, \\qquad &\\mathrm{in}\\,\\Omega\\times (0,T), \\\\\n",
    "\\mathbf{q} + \\frac{\\mathbf{k}}{\\mu_f} \\nabla p &= 0 \\qquad &\\mathrm{in}\\,\\Omega\\times (0,T), \\\\\n",
    "\\end{align}\n",
    "$$\n",
    "\n",
    "subjected to boundary conditions\n",
    "$$\n",
    "\\begin{align}\n",
    "\\mathbf{u} &= \\mathbf{g}_{D}^\\mathrm{m},  \\qquad &\\mathrm{on}\\,\\partial_D^{\\mathrm{m}}\\Omega\\times (0,T), \\\\\n",
    "\\sigma \\cdot \\mathbf{n} &= \\mathbf{g}_{N}^\\mathrm{m},  \\qquad &\\mathrm{on}\\,\\partial_N^{\\mathrm{m}}\\Omega\\times (0,T), \\\\\n",
    "p &= g_{D}^\\mathrm{f},  \\qquad &\\mathrm{on}\\,\\partial_D^{\\mathrm{f}}\\Omega\\times (0,T), \\\\\n",
    "\\mathbf{q} \\cdot \\mathbf{n} &= g_{N}^\\mathrm{f},  \\qquad &\\mathrm{on}\\,\\partial_N^{\\mathrm{m}}\\Omega\\times (0,T)\n",
    "\\end{align}\n",
    "$$\n",
    "\n",
    "and initial conditions\n",
    "\n",
    "$$\n",
    "\\begin{align}\n",
    "\\mathbf{u} &= \\mathbf{u}_0, \\qquad &\\mathrm{in}\\,\\Omega\\times\\{0\\}, \\\\\n",
    "p &= p_0, \\qquad &\\mathrm{in}\\,\\Omega\\times\\{0\\}.\n",
    "\\end{align}\n",
    "$$ \n",
    "\n",
    "where $$\\overline{\\partial_D^{\\mathrm{m}}\\Omega} \\cup \\overline{\\partial_N^{\\mathrm{m}}\\Omega} = \\overline{\\partial_D^{\\mathrm{f}}\\Omega} \\cup \\overline{\\partial_N^{\\mathrm{f}}\\Omega} = \\partial\\Omega$$"
   ]
  },
  {
   "cell_type": "code",
   "execution_count": null,
   "id": "023c90c9",
   "metadata": {},
   "outputs": [],
   "source": []
  }
 ],
 "metadata": {
  "kernelspec": {
   "display_name": "Python 3 (ipykernel)",
   "language": "python",
   "name": "python3"
  },
  "language_info": {
   "codemirror_mode": {
    "name": "ipython",
    "version": 3
   },
   "file_extension": ".py",
   "mimetype": "text/x-python",
   "name": "python",
   "nbconvert_exporter": "python",
   "pygments_lexer": "ipython3",
   "version": "3.9.7"
  }
 },
 "nbformat": 4,
 "nbformat_minor": 5
}
