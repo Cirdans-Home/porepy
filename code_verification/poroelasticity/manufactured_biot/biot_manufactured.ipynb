{
 "cells": [
  {
   "cell_type": "markdown",
   "id": "8f903509",
   "metadata": {},
   "source": [
    "# Manufactured solution for the Biot equations of poroelasticity"
   ]
  },
  {
   "cell_type": "markdown",
   "id": "417ab98d",
   "metadata": {},
   "source": [
    "In this notebook, we perform a convergence analysis for a manufactured solution to the Biot\n",
    "equations using MPFA/MPSA-FV."
   ]
  },
  {
   "cell_type": "markdown",
   "id": "b4aa1b2a",
   "metadata": {},
   "source": [
    "## Background"
   ]
  },
  {
   "cell_type": "markdown",
   "id": "4f6302fa",
   "metadata": {},
   "source": [
    "### The model problem"
   ]
  },
  {
   "cell_type": "markdown",
   "id": "156d67cf",
   "metadata": {},
   "source": [
    "We consider the standard quasi-static Biot model [[1-3](#References)], posed in a domain\n",
    "$\\Omega \\subset \\mathbb{R}^2$ with Lipschitz boundary $\\partial\\Omega$. We are interested in\n",
    "approximating the solution using MPFA/MPSA-FV [[4](#References)] on a time interval $(0,T)$,\n",
    "such that\n",
    "\n",
    "\\begin{align}\n",
    "\\nabla \\cdot \\sigma - \\mathbf{f}_s &= 0, \\qquad &\\mathrm{in}\\,\\Omega\\times (0,T), \\\\\n",
    "\\sigma - \\mu_s \\left(\\nabla \\mathbf{u} + (\\nabla \\mathbf{u})^\\top\\right) -  \\lambda_s\n",
    "\\left(\\nabla \\cdot \\mathbf{u}\\right)\\mathbf{I} + \\alpha p \\mathbf{I} &= 0,\n",
    "\\qquad &\\mathrm{in}\\,\\Omega\\times (0,T), \\\\\n",
    "S_\\phi \\frac{\\partial p}{\\partial t} + \\alpha \\frac{\\partial}{\\partial t} \\left(\\nabla \\cdot\n",
    "\\mathbf{u}\\right) + \\nabla \\cdot \\mathbf{q} - f_f &= 0,\n",
    "\\qquad &\\mathrm{in}\\,\\Omega\\times (0,T), \\\\\n",
    "\\mathbf{q} + \\frac{\\mathbf{k}}{\\mu_f} \\nabla p &= 0,\n",
    "\\qquad &\\mathrm{in}\\,\\Omega\\times (0,T), \\\\\n",
    "\\end{align}\n",
    "\n",
    "where $\\sigma$ is the Biot (total) stress, $\\mathbf{f}_s$ are the body forces\n",
    "(mechanical sources), $\\mathbf{u}$ is the displacement, $\\lambda_s$ and $\\mu_s$ are the usual\n",
    "Lamé parameters, $p$ is the fluid pressure, $S_\\phi$ is the storavitiy, $\\alpha$ is the Biot\n",
    "coefficient, $\\mathbf{q}$ is the Darcy's velocity, $\\mathbf{k}$ is the intrinsic permeability,\n",
    "and $\\mu_f$ is the dynamic viscosity of the fluid.\n",
    "\n",
    "The model is complemented with homogeneous Dirichlet boundary conditions\n",
    "\n",
    "\\begin{align}\n",
    "\\mathbf{u} &= 0,  \\qquad &\\mathrm{on}\\,\\Gamma_{\\mathbf{u}, D}\\times (0,T), \\\\\n",
    "p &= 0,  \\qquad &\\mathrm{on}\\,\\Gamma_{p, D}\\times (0,T), \\\\\n",
    "\\end{align}\n",
    "\n",
    "for two partitions $\\overline{\\Gamma}_{\\mathbf{u}, D} = \\overline{\\Gamma}_{p, D} =\n",
    "\\partial\\Omega$, and zero initial conditions\n",
    "\n",
    "\\begin{align}\n",
    "\\mathbf{u} &= 0, \\qquad &\\mathrm{in}\\,\\Omega\\times\\{0\\}, \\\\\n",
    "p &= 0, \\qquad &\\mathrm{in}\\,\\Omega\\times\\{0\\}.\n",
    "\\end{align}"
   ]
  },
  {
   "cell_type": "markdown",
   "id": "c930ff90",
   "metadata": {},
   "source": [
    "### The manufactured solution"
   ]
  },
  {
   "cell_type": "markdown",
   "id": "2ab25109",
   "metadata": {},
   "source": [
    "Let $\\Omega = (0,1)^2$ and $T = 1$. For the sake of simplicity, all physical parameters are\n",
    "set to one.\n",
    "\n",
    "Following [[4](#References)], we assume the existence of a smooth displacement solution\n",
    "given by\n",
    "\n",
    "\\begin{equation}\n",
    "\\mathbf{u}(x,y,t) = t \\pmatrix{x (1 - x) \\sin{(2 \\pi y)} \\\\ \\sin{(2 \\pi x)} \\sin{(2 \\pi y)}},\n",
    "\\end{equation}\n",
    "\n",
    "and a smooth pressure solution given by\n",
    "\n",
    "$$\n",
    "p(x,y,t) = t x (1 - x) \\sin{(2 \\pi y)}.\n",
    "$$\n",
    "\n",
    "The figure from below shows the exact pressure field $p$ and the exact magintude of the\n",
    "displacement field $\\mathbf{u}$ for the final simulation time $T=1$.\n",
    "\n",
    "<table><tr>\n",
    "<td> <img src=\"fig/p.svg\" alt=\"Pressure\" style=\"width: 400px;\"/> </td>\n",
    "<td> <img src=\"fig/u.svg\" alt=\"Displacement\" style=\"width: 400px;\"/> </td>\n",
    "</tr></table>\n",
    "\n",
    "Note that the solutions conveniently satisfy both the boundary and initial conditions\n",
    "imposed above.\n",
    "\n",
    "Now, exact sources $f_f$ and $\\mathbf{f}_s$ can be obtained. Note that this is done in a\n",
    "separate file (biot_manufactured_exact.py) via the `ExactBiotManufactured` class, exploiting\n",
    "the capabilities of SymPy.\n",
    "\n",
    "The resulting source terms are:\n",
    "\n",
    "\\begin{align}\n",
    "f_f(x,y,t) &= 4\\pi^2tx(1-x)\\sin(2\\pi y) + 2t\\sin(2\\pi y) + x(1-x)\\sin(2\\pi y) - x\\sin(2\\pi y)\n",
    "+ (1-x)\\sin(2\\pi y) + 2\\pi \\sin(2\\pi x) \\cos(2\\pi y), \\\\\n",
    "\\mathbf{f}_s(x,y,t) &= \\pmatrix{\n",
    "-4\\pi^2tx(1-x)\\sin(2\\pi y) + tx\\sin(2\\pi y) + tx\\sin(2\\pi y) - t(1-x)\\sin(2\\pi y)\n",
    "- 6 t \\sin(2 \\pi y) + 8\\pi^2t\\cos(2\\pi x) \\cos(2\\pi y) \\\\\n",
    "-2\\pi tx(1-x)\\cos(2\\pi y) - 4\\pi t x \\cos(2\\pi y) + 4\\pi t(1-x)\\cos(2\\pi y)\n",
    "- 16\\pi^2 t\\sin(2\\pi x)\\sin(2\\pi y)\n",
    "}.\n",
    "\\end{align}\n",
    "\n",
    "In the figure from below, we show the flow source term $f_s$ and the mechanics source term\n",
    "$\\mathbf{f}_s$ for the final simulation time.\n",
    "\n",
    "<table><tr>\n",
    "<td> <img src=\"fig/ff.svg\" alt=\"Flow source\" style=\"width: 400px;\"/> </td>\n",
    "<td> <img src=\"fig/fm.svg\" alt=\"Mechanics source\" style=\"width: 400px;\"/> </td>\n",
    "</tr></table>"
   ]
  },
  {
   "cell_type": "markdown",
   "id": "732c8211",
   "metadata": {},
   "source": [
    "### The semi-discrete set of equations"
   ]
  },
  {
   "cell_type": "markdown",
   "id": "0448e11f",
   "metadata": {},
   "source": [
    "We aim at solving the set of equations fully implicitly by applying backward Euler for a single\n",
    "time step $\\tau = 1$. MPFA/MPSA-FV solves the coupled system of equations for\n",
    "$(p^\\mathtt{n}, \\mathbf{u}^{\\mathtt{n}})$ as the only compound primary unknown. Note that we\n",
    "use $\\mathtt{n}$ to refer to the next time level and $\\mathtt{n-1}$ to the previous\n",
    "time level.\n",
    "\n",
    "The resulting semi-discrete set of equations is therefore given by:\n",
    "\n",
    "\\begin{align}\n",
    "\\nabla \\cdot \\left[\\mu_s \\left(\\nabla \\mathbf{u}^{\\mathtt{n}}\n",
    "+ \\nabla \\mathbf{u}^{\\mathtt{n}})^\\top\\right)\n",
    "+ \\lambda_s \\left(\\nabla \\cdot \\mathbf{u}^{\\mathtt{n}}\\right)\\mathbf{I}\n",
    "- \\alpha p^{\\mathtt{n}} \\mathbf{I}\\right] - \\mathbf{f}_s^{\\mathtt{n}} &= 0,\n",
    "- \\qquad &\\mathrm{in}\\,\\Omega\\times \\{1\\}, \\\\\n",
    "S_\\phi \\left(p^\\mathtt{n} - p^\\mathtt{n-1}\\right)\n",
    "+ \\alpha \\nabla \\cdot \\left(\\mathbf{u}^\\mathtt{n}\n",
    "- \\mathbf{u}^\\mathtt{n-1}\\right)\n",
    "- \\tau \\nabla \\cdot \\left(\\frac{\\mathbf{k}}{\\mu_f}\\nabla p^{\\mathtt{n}}\\right)\n",
    "- \\tau f_f^\\mathtt{n} &= 0, \\qquad &\\mathrm{in}\\,\\Omega\\times \\{1\\}.\n",
    "\\end{align}"
   ]
  },
  {
   "cell_type": "markdown",
   "id": "b3f14761",
   "metadata": {},
   "source": [
    "### References"
   ]
  },
  {
   "cell_type": "markdown",
   "id": "8497c23a",
   "metadata": {},
   "source": [
    "[1] Biot, M. A. (1941). General theory of three‐dimensional consolidation.\n",
    "Journal of applied physics, 12(2), 155-164.\n",
    "\n",
    "[2] Lewis, R. W., Lewis, R. W., & Schrefler, B. A. (1998). The finite element method in the\n",
    "static and dynamic deformation and consolidation of porous media. John Wiley & Sons.\n",
    "\n",
    "[3] Coussy, O. (2004). Poromechanics. John Wiley & Sons.\n",
    "\n",
    "[4] Nordbotten, J. M. (2016). Stable cell-centered finite volume discretization for Biot\n",
    "equations. SIAM Journal on Numerical Analysis, 54(2), 942-968."
   ]
  },
  {
   "cell_type": "markdown",
   "id": "538d26dc",
   "metadata": {},
   "source": [
    "## Importing modules"
   ]
  },
  {
   "cell_type": "code",
   "execution_count": 1,
   "id": "d890f858",
   "metadata": {},
   "outputs": [],
   "source": [
    "import porepy as pp\n",
    "import numpy as np\n",
    "from time import time\n",
    "\n",
    "from biot_manufactured_exact import ExactBiotManufactured"
   ]
  },
  {
   "cell_type": "markdown",
   "id": "e3276b81",
   "metadata": {},
   "source": [
    "## Create model class"
   ]
  },
  {
   "cell_type": "markdown",
   "id": "08d53bc3",
   "metadata": {},
   "source": [
    "Let us now create our own model class, by inhereting from the `ConctactMechanicsBiot` class. \n",
    "\n",
    "To properly set up our model, we need to override the methods corresponding to the grid, the\n",
    "flow source term, and the mechanics source term.\n",
    "\n",
    "Technically speaking, the source terms are time-dependent. However, in this case, it suffices\n",
    "to prescribe constant source terms since we are solving for only one time step. This allows us\n",
    " to override the `_source_scalar` and `_body_force` prescribing the (integrated) source terms."
   ]
  },
  {
   "cell_type": "code",
   "execution_count": 2,
   "id": "bcfea13e",
   "metadata": {},
   "outputs": [],
   "source": [
    "class ManufacturedBiot(pp.ContactMechanicsBiot):\n",
    "    \"\"\"Class for setting up a manufactured solution for the Biot problem without fractures.\n",
    "\n",
    "    Attributes:\n",
    "        exact_sol (ExactBiotManufactured): Exact solution object.\n",
    "\n",
    "    \"\"\"\n",
    "\n",
    "    def __init__(self, exact_sol: ExactBiotManufactured, params: dict):\n",
    "        \"\"\"\n",
    "        Constructor for the ManufacturedBiot class.\n",
    "\n",
    "        Args:\n",
    "            exact_sol: Exact solution object, containing the exact source terms.\n",
    "            params: Model parameters.\n",
    "\n",
    "        \"\"\"\n",
    "        super().__init__(params)\n",
    "        self.exact_sol = exact_sol\n",
    "\n",
    "    def create_grid(self) -> None:\n",
    "        \"\"\"Create Cartesian structured mixed-dimensional grid.\"\"\"\n",
    "        ref_lvl = self.params.get(\"refinement_level\")\n",
    "        phys_dims = np.array([1, 1])\n",
    "        n_cells = np.array([2 * 2**ref_lvl, 2 * 2**ref_lvl])\n",
    "        self.box = pp.geometry.bounding_box.from_points(np.array([[0, 0], phys_dims]).T)\n",
    "        sd: pp.Grid = pp.CartGrid(n_cells, phys_dims)\n",
    "        sd.compute_geometry()\n",
    "        self.mdg = pp.meshing.subdomains_to_mdg([[sd]])\n",
    "\n",
    "    def _source_scalar(self, sd: pp.Grid) -> np.ndarray:\n",
    "        \"\"\"Integrated flow sources.\"\"\"\n",
    "        for sd, data in self.mdg.subdomains(return_data=True):\n",
    "            # Retrieve exact source term\n",
    "            source_flow = self.exact_sol.eval_scalar(sd, ex.source_flow, model.end_time)\n",
    "            # Integrated source term\n",
    "            integrated_source_flow = source_flow * sd.cell_volumes\n",
    "            # Note that we have to scale the integrated sources with the time step explicitly.\n",
    "            # This might change when the Assembler class is discontinued, see issue #675\n",
    "            integrated_source_flow *= self.time_step\n",
    "            return integrated_source_flow\n",
    "\n",
    "    def _body_force(self, sd: pp.Grid) -> np.ndarray:\n",
    "        \"\"\"Integrated mechanical sources.\"\"\"\n",
    "        for sd, data in self.mdg.subdomains(return_data=True):\n",
    "            # Retrieve exact source term\n",
    "            body_force = np.asarray(\n",
    "                self.exact_sol.eval_vector(sd, ex.source_mechanics, model.end_time)\n",
    "            ).ravel(\"F\")\n",
    "            # Integrated source term\n",
    "            integrated_body_force = body_force * sd.cell_volumes.repeat(sd.dim)\n",
    "            return integrated_body_force"
   ]
  },
  {
   "cell_type": "markdown",
   "id": "a5e4af37",
   "metadata": {},
   "source": [
    "## Run convergence test"
   ]
  },
  {
   "cell_type": "code",
   "execution_count": 3,
   "id": "886ebf5d",
   "metadata": {},
   "outputs": [
    {
     "name": "stdout",
     "output_type": "stream",
     "text": [
      "Refinement level 1. Number of cells 16.\n",
      "Simulation finished in 0.5679240226745605 seconds.\n",
      "Pressure error: 0.20330983961479535\n",
      "Displacement error: 0.3955920641364965\n",
      "\n",
      "Refinement level 2. Number of cells 64.\n",
      "Simulation finished in 0.25078868865966797 seconds.\n",
      "Pressure error: 0.04707342586693304\n",
      "Displacement error: 0.09600761532527154\n",
      "\n",
      "Refinement level 3. Number of cells 256.\n",
      "Simulation finished in 0.29462289810180664 seconds.\n",
      "Pressure error: 0.011596517688515641\n",
      "Displacement error: 0.02457080231432297\n",
      "\n",
      "Refinement level 4. Number of cells 1024.\n",
      "Simulation finished in 0.4825921058654785 seconds.\n",
      "Pressure error: 0.0028914698407081865\n",
      "Displacement error: 0.006234630964492454\n",
      "\n",
      "Refinement level 5. Number of cells 4096.\n",
      "Simulation finished in 1.4789760112762451 seconds.\n",
      "Pressure error: 0.000722709266934443\n",
      "Displacement error: 0.0015665458785560963\n",
      "\n"
     ]
    }
   ],
   "source": [
    "# Retrieve exact solution object (this is implemented in a separate class)\n",
    "# For more details, refer to biot_manufactured_exact.py\n",
    "ex = ExactBiotManufactured()\n",
    "\n",
    "# Define refinement levels\n",
    "refinement_levels = np.array([1, 2, 3, 4, 5])\n",
    "\n",
    "# Create a dictionary to store the errors\n",
    "errors = {\n",
    "    \"refinement_levels\": refinement_levels,\n",
    "    \"pressure\": np.empty(shape=refinement_levels.shape),\n",
    "    \"displacement\": np.empty(shape=refinement_levels.shape),\n",
    "}\n",
    "\n",
    "# Converge loop\n",
    "for idx, refinement_level in enumerate(refinement_levels):\n",
    "\n",
    "    # Define simulation parameters\n",
    "    params = {\n",
    "        \"time\": 0.0,\n",
    "        \"time_step\": 1.0,\n",
    "        \"end_time\": 1.0,\n",
    "        \"use_ad\": True,\n",
    "        \"refinement_level\": refinement_level,\n",
    "    }\n",
    "\n",
    "    # Instatiate the model class\n",
    "    model = ManufacturedBiot(ex, params)\n",
    "\n",
    "    # Run model\n",
    "    tic = time()\n",
    "    pp.run_time_dependent_model(model, params)\n",
    "    print(\n",
    "        f\"Refinement level {refinement_level}. Number of cells {model.mdg.num_subdomain_cells()}.\"\n",
    "    )\n",
    "    print(f\"Simulation finished in {time() - tic} seconds.\")\n",
    "\n",
    "    # Retrieve approximated and exact values of primary variables\n",
    "    mdg = model.mdg\n",
    "    sd = model.mdg.subdomains(dim=2)[0]\n",
    "    data = mdg.subdomain_data(sd)\n",
    "    p_approx = data[pp.STATE][model.scalar_variable]\n",
    "    u_approx = data[pp.STATE][model.displacement_variable]\n",
    "    p_exact = ex.eval_scalar(sd, ex.pressure, model.end_time)\n",
    "    u_exact = np.asarray(ex.eval_vector(sd, ex.displacement, model.end_time)).ravel(\"F\")\n",
    "    data[pp.STATE][\"p_exact\"] = p_exact\n",
    "    data[pp.STATE][\"u_exact\"] = u_exact\n",
    "\n",
    "    # Measure error\n",
    "    error_p = ex.l2_relative_error(sd, p_exact, p_approx, is_cc=True, is_scalar=True)\n",
    "    error_u = ex.l2_relative_error(sd, u_exact, u_approx, is_cc=True, is_scalar=False)\n",
    "\n",
    "    # Print summary\n",
    "    print(f\"Pressure error: {error_p}\")\n",
    "    print(f\"Displacement error: {error_u}\")\n",
    "    print()\n",
    "\n",
    "    # Dump errors into dictionary\n",
    "    errors[\"pressure\"][idx] = error_p\n",
    "    errors[\"displacement\"][idx] = error_u\n",
    "\n",
    "# Determine rates of convergence\n",
    "errors[\"reduction_p\"] = errors[\"pressure\"][:-1] / errors[\"pressure\"][1:]\n",
    "errors[\"reduction_u\"] = errors[\"displacement\"][:-1] / errors[\"displacement\"][1:]\n",
    "errors[\"order_p\"] = np.log2(errors[\"reduction_p\"])\n",
    "errors[\"order_u\"] = np.log2(errors[\"reduction_u\"])"
   ]
  },
  {
   "cell_type": "markdown",
   "id": "8da439c4",
   "metadata": {},
   "source": [
    "## Analysis of results"
   ]
  },
  {
   "cell_type": "markdown",
   "id": "dff5f4a6",
   "metadata": {},
   "source": [
    "Let us now plot the approximated displacement and pressure fields"
   ]
  },
  {
   "cell_type": "code",
   "execution_count": 4,
   "id": "f74b9192",
   "metadata": {},
   "outputs": [
    {
     "data": {
      "image/png": "[encoded data removed]",
      "text/plain": [
       "<Figure size 576x432 with 2 Axes>"
      ]
     },
     "metadata": {
      "needs_background": "light"
     },
     "output_type": "display_data"
    },
    {
     "data": {
      "image/png": "[encoded data removed]",
      "text/plain": [
       "<Figure size 576x432 with 2 Axes>"
      ]
     },
     "metadata": {
      "needs_background": "light"
     },
     "output_type": "display_data"
    }
   ],
   "source": [
    "pp.plot_grid(sd, p_approx, plot_2d=True, title=\"Approximated pressure\", figsize=(8, 6))\n",
    "\n",
    "u_mag = (u_approx[::2] ** 2 + u_approx[1::2] ** 2) ** 0.5\n",
    "pp.plot_grid(\n",
    "    sd,\n",
    "    u_mag,\n",
    "    plot_2d=True,\n",
    "    title=\"Approximated magnitude of displacement\",\n",
    "    figsize=(8, 6),\n",
    ")"
   ]
  },
  {
   "cell_type": "markdown",
   "id": "09222020",
   "metadata": {},
   "source": [
    "We can now check the convergence order for the primary variables"
   ]
  },
  {
   "cell_type": "code",
   "execution_count": 5,
   "id": "91aa06e7",
   "metadata": {},
   "outputs": [
    {
     "name": "stdout",
     "output_type": "stream",
     "text": [
      "Convergence order for the displacement: \n",
      " [2.04279273 1.96620388 1.97856889 1.99271715]\n",
      "Convergence order for the pressure: \n",
      " [2.11069528 2.02122121 2.00381668 2.00031576]\n"
     ]
    }
   ],
   "source": [
    "print(f\"Convergence order for the displacement: \\n {errors['order_u']}\")\n",
    "print(f\"Convergence order for the pressure: \\n {errors['order_p']}\")"
   ]
  },
  {
   "cell_type": "markdown",
   "id": "887c9bab",
   "metadata": {},
   "source": [
    "## Conclusion"
   ]
  },
  {
   "cell_type": "markdown",
   "id": "ad9264c3",
   "metadata": {},
   "source": [
    "The practical convergence order matches closely the theoretical value of 2, both for the\n",
    "displacement and the pressure.\n",
    "\n",
    "One can of course extend this analysis to other types of grids, non-unitary physical\n",
    "parameters, and non-homogeneous boundary conditions. This, however, is beyond the scope of\n",
    "this notebook."
   ]
  },
  {
   "cell_type": "markdown",
   "id": "404d71fa",
   "metadata": {},
   "source": [
    "## What have we done?"
   ]
  },
  {
   "cell_type": "markdown",
   "id": "7d1de41a",
   "metadata": {},
   "source": [
    "We showed that MPFA/MPSA-FV converges quadratically in space using a manufactured solution on\n",
    "a fairly simplistic setup.\n",
    "\n",
    "The approximated solution can be obtained straightforwardly by inhereting from the\n",
    "`ContactMechanicsBiot` model and then overrding the necessary methods, i.e.,\n",
    "`create_grid`, `_source_scalar`, and `_body_force`."
   ]
  }
 ],
 "metadata": {
  "kernelspec": {
   "display_name": "Python 3 (ipykernel)",
   "language": "python",
   "name": "python3"
  },
  "language_info": {
   "codemirror_mode": {
    "name": "ipython",
    "version": 3
   },
   "file_extension": ".py",
   "mimetype": "text/x-python",
   "name": "python",
   "nbconvert_exporter": "python",
   "pygments_lexer": "ipython3",
   "version": "3.9.13"
  }
 },
 "nbformat": 4,
 "nbformat_minor": 5
}