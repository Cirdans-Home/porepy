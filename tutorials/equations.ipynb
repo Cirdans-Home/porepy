{
 "cells": [
  {
   "attachments": {},
   "cell_type": "markdown",
   "metadata": {},
   "source": [
    "# Introduction\n",
    "\n",
    "One of the key features of PorePy is the forward-mode automatic (or algorithmic) differentiation, or AD.\n",
    "The AD is used to linearize a system of partial differential equations.\n",
    "\n",
    "This tutorial introduces the basic usage of the AD and shows how it is incorporated into the PorePy models.\n",
    "\n",
    "The time stepping algorithm at the core of PorePy involves numerically solving a discretized system of PDEs $F$ with respect to the vector of variables $x$. \n",
    "Most numerical solution algorithms rely on computing the Jacobian matrix of this system: $J:=\\dfrac{\\partial F}{\\partial x}$. \n",
    "However, programming a formula to compute the Jacobian matrix can be difficult, as it requires analytic differentiation of the equation $F$.\n",
    "\n",
    "Fortunately, the PorePy model developers do not need to perform this task, as the AD framework handles it for them."
   ]
  },
  {
   "attachments": {},
   "cell_type": "markdown",
   "metadata": {},
   "source": [
    "# AD basics\n",
    "\n",
    "The core of the AD framework is the `AdArray` class. It contains 2 attributes:\n",
    "- `val` - the value of the variable it represents.\n",
    "- `jac` - the Jacobian matrix of the variable it represents.\n",
    "\n",
    "Let's create an independent variable - the vector `x = [1, 2, 3]`.\n",
    "As the variable is independent, its Jacobian is the identity matrix:\n",
    "$\\dfrac{\\partial x}{\\partial x} = I$."
   ]
  },
  {
   "cell_type": "code",
   "execution_count": 1,
   "metadata": {},
   "outputs": [
    {
     "name": "stdout",
     "output_type": "stream",
     "text": [
      "Values:\n",
      " [1. 2. 3.]\n",
      "Jacobian:\n",
      " [[1. 0. 0.]\n",
      " [0. 1. 0.]\n",
      " [0. 0. 1.]]\n"
     ]
    }
   ],
   "source": [
    "import numpy as np\n",
    "import scipy.sparse as sps\n",
    "\n",
    "from porepy.numerics.ad.forward_mode import AdArray\n",
    "\n",
    "val = np.array([1, 2, 3])\n",
    "jac = sps.eye(m=val.size)\n",
    "\n",
    "x = AdArray(val=val, jac=jac)\n",
    "\n",
    "print(\"Values:\\n\", x.val)\n",
    "print(\"Jacobian:\\n\", x.jac.toarray())"
   ]
  },
  {
   "attachments": {},
   "cell_type": "markdown",
   "metadata": {},
   "source": [
    "Now we can use arithmetic operators to build any expression with $x$. For example:\n",
    "$y(x) = 6 x^3 + 3 x - 6$"
   ]
  },
  {
   "cell_type": "code",
   "execution_count": 2,
   "metadata": {},
   "outputs": [],
   "source": [
    "y = 6 * x**3 + 3 * x - 6"
   ]
  },
  {
   "attachments": {},
   "cell_type": "markdown",
   "metadata": {},
   "source": [
    "The values of the Jacobian $\\dfrac{\\partial y}{\\partial x}$ are available automatically, and they are computed with respect to $x = [1, 2, 3]$."
   ]
  },
  {
   "cell_type": "code",
   "execution_count": 3,
   "metadata": {},
   "outputs": [
    {
     "name": "stdout",
     "output_type": "stream",
     "text": [
      "[[ 21.   0.   0.]\n",
      " [  0.  75.   0.]\n",
      " [  0.   0. 165.]]\n"
     ]
    }
   ],
   "source": [
    "print(y.jac.toarray())"
   ]
  },
  {
   "attachments": {},
   "cell_type": "markdown",
   "metadata": {},
   "source": [
    "In addition to defining functions ourselves, we can access a collection of pre-defined standard functions. \n",
    "This collection contains functions such as `sin`, `cos`, `exp` and so on. \n",
    "We refer to the source code for seeing which functions are available, and continue with a simple example of how to access such a function:"
   ]
  },
  {
   "cell_type": "code",
   "execution_count": 4,
   "metadata": {},
   "outputs": [
    {
     "name": "stdout",
     "output_type": "stream",
     "text": [
      "[[ 0.54030231  0.          0.        ]\n",
      " [ 0.         -0.41614684  0.        ]\n",
      " [ 0.          0.         -0.9899925 ]]\n"
     ]
    }
   ],
   "source": [
    "import porepy.numerics.ad.functions as af\n",
    "\n",
    "y = af.sin(x)\n",
    "print(y.jac.toarray())"
   ]
  },
  {
   "attachments": {},
   "cell_type": "markdown",
   "metadata": {},
   "source": [
    "The AD framework supports NumPy arrays and SciPy sparse matrices. \n",
    "There are some limitations, but as this will not be covered in this tutorial, the user should check the documentation of the `AdArray` code to become aware of them.\n",
    "\n",
    "Now we are ready to see how the AD is utilized in the PorePy models.\n",
    "\n",
    "# AD in the models"
   ]
  },
  {
   "attachments": {},
   "cell_type": "markdown",
   "metadata": {},
   "source": [
    "We will now consider an example of `SinglePhaseFlow` model, which should be familiar from the [earlier tutorial](./single_phase_flow.ipynb) covering single physics.\n",
    "This time we will not define the geometry manually, but instead use one of the pre-defined geometries provided by a mixin class."
   ]
  },
  {
   "cell_type": "code",
   "execution_count": 3,
   "metadata": {},
   "outputs": [],
   "source": [
    "import inspect\n",
    "import porepy as pp\n",
    "from porepy.applications.md_grids.model_geometries import (\n",
    "    SquareDomainOrthogonalFractures,\n",
    ")\n",
    "from porepy.models.fluid_mass_balance import SinglePhaseFlow\n",
    "\n",
    "\n",
    "class SinglePhaseFlowWithGeometry(SquareDomainOrthogonalFractures, SinglePhaseFlow):\n",
    "    def meshing_arguments(self) -> dict:\n",
    "        cell_size = self.solid.convert_units(0.25, \"m\")\n",
    "        return {\"cell_size\": cell_size}"
   ]
  },
  {
   "attachments": {},
   "cell_type": "markdown",
   "metadata": {},
   "source": [
    "Among many other things, PorePy model classes include methods for defining:\n",
    "- the independent variables of the simulation\n",
    "- the system of PDEs describing the physical laws of the simulation\n",
    "\n",
    "All of these are called when the model is initialized in the `prepare_simulation` method.\n",
    "\n",
    "<b>Note:</b>  When running the simulation, you should not call `prepare_simulation` directly. \n",
    "It is called inside `pp.run_time_dependent_model` or `pp.run_stationary_model`. \n",
    "Here, we run it for illustration purposes only, as we do not plan to run the simulation."
   ]
  },
  {
   "cell_type": "code",
   "execution_count": 9,
   "metadata": {},
   "outputs": [
    {
     "name": "stdout",
     "output_type": "stream",
     "text": [
      "The grid:\n"
     ]
    },
    {
     "data": {
      "image/png": "[encoded data removed]",
      "text/plain": [
       "<Figure size 640x480 with 2 Axes>"
      ]
     },
     "metadata": {},
     "output_type": "display_data"
    },
    {
     "name": "stdout",
     "output_type": "stream",
     "text": [
      "One fracture inside:\n"
     ]
    },
    {
     "data": {
      "image/png": "[encoded data removed]",
      "text/plain": [
       "<Figure size 640x480 with 1 Axes>"
      ]
     },
     "metadata": {},
     "output_type": "display_data"
    }
   ],
   "source": [
    "model = SinglePhaseFlowWithGeometry()\n",
    "model.prepare_simulation()\n",
    "\n",
    "print(\"The grid:\")\n",
    "pp.plot_grid(model.mdg, plot_2d=True)\n",
    "print(\"One fracture inside:\")\n",
    "model.fracture_network.plot()"
   ]
  },
  {
   "attachments": {},
   "cell_type": "markdown",
   "metadata": {},
   "source": [
    "So, what happenes inside `model.prepare_simulation`?"
   ]
  },
  {
   "cell_type": "code",
   "execution_count": 7,
   "metadata": {},
   "outputs": [
    {
     "name": "stdout",
     "output_type": "stream",
     "text": [
      "    def prepare_simulation(self) -> None:\n",
      "        \"\"\"Run at the start of simulation. Used for initialization etc.\"\"\"\n",
      "        # Set the material and geometry of the problem. The geometry method must be\n",
      "        # implemented in a ModelGeometry class.\n",
      "        self.set_materials()\n",
      "        self.set_geometry()\n",
      "\n",
      "        # Exporter initialization must be done after grid creation,\n",
      "        # but prior to data initialization.\n",
      "        self.initialize_data_saving()\n",
      "\n",
      "        # Set variables, constitutive relations, discretizations and equations.\n",
      "        # Order of operations is important here.\n",
      "        self.set_equation_system_manager()\n",
      "        self.create_variables()\n",
      "        self.initial_condition()\n",
      "        self.reset_state_from_file()\n",
      "        self.set_equations()\n",
      "\n",
      "        self.set_discretization_parameters()\n",
      "        self.discretize()\n",
      "        self._initialize_linear_solver()\n",
      "        self.set_nonlinear_discretizations()\n",
      "\n",
      "        # Export initial condition\n",
      "        self.save_data_time_step()\n",
      "\n"
     ]
    }
   ],
   "source": [
    "print(inspect.getsource(model.prepare_simulation))"
   ]
  },
  {
   "attachments": {},
   "cell_type": "markdown",
   "metadata": {},
   "source": [
    "The `prepare_simulation` method runs a sequence of initialization steps, all of which are important. \n",
    "However, we will focus on two steps for now:\n",
    "\n",
    "- Initializing the independent variables of the simulation in the `create_variables` method. In our case, these are pressure $P$ and interface flux.\n",
    "- Initializing the equations of the model in the `set_equations` method. In our case, these are the mass balance equation and the interface equations.\n",
    "\n",
    "The bookkeeping of variables and equations is done with the `equation_system` attribute of the model:"
   ]
  },
  {
   "cell_type": "code",
   "execution_count": 8,
   "metadata": {},
   "outputs": [
    {
     "data": {
      "text/plain": [
       "EquationSystem for mixed-dimensional grid with 2 subdomains and 1 interfaces.\n",
       "Variables present on at least one grid or interface:\n",
       "\tinterface_darcy_flux, pressure\n",
       "In total 3 equations, with names: \n",
       "\tmass_balance_equation, interface_darcy_flux_equation, well_flux_equation"
      ]
     },
     "execution_count": 8,
     "metadata": {},
     "output_type": "execute_result"
    }
   ],
   "source": [
    "model.equation_system"
   ]
  },
  {
   "attachments": {},
   "cell_type": "markdown",
   "metadata": {},
   "source": [
    "## Variables creation\n",
    "The variables are created in the method `create_variables`. Inside this method, we register all the model variables in the `equation_system`:"
   ]
  },
  {
   "cell_type": "code",
   "execution_count": 9,
   "metadata": {},
   "outputs": [
    {
     "name": "stdout",
     "output_type": "stream",
     "text": [
      "    def create_variables(self) -> None:\n",
      "        \"\"\"Assign primary variables to subdomains and interfaces of the\n",
      "        mixed-dimensional grid.\n",
      "\n",
      "        \"\"\"\n",
      "        self.equation_system.create_variables(\n",
      "            self.pressure_variable,\n",
      "            subdomains=self.mdg.subdomains(),\n",
      "            tags={\"si_units\": \"Pa\"},\n",
      "        )\n",
      "        # Note that `interface_darcy_flux_variable` is not multiplied by rho * mu^-1.\n",
      "        # However, after multiplication, whe know that the resulting flux should be a\n",
      "        # mass flux with units  `kg * s^-1`. The units of `interface_darcy_flux` can\n",
      "        # then be inferred by solving the below equation for `int_flux_units`:\n",
      "        # kg * s^-1 = [kg * (m^nd)^-1] * [Pa * s]^-1 * intf_flux_units\n",
      "        self.equation_system.create_variables(\n",
      "            self.interface_darcy_flux_variable,\n",
      "            interfaces=self.mdg.interfaces(codim=1),\n",
      "            tags={\"si_units\": f\"m^{self.nd} * Pa\"},\n",
      "        )\n",
      "        self.equation_system.create_variables(\n",
      "            self.well_flux_variable,\n",
      "            interfaces=self.mdg.interfaces(codim=2),\n",
      "            tags={\"si_units\": f\"m^{self.nd} * Pa\"},\n",
      "        )\n",
      "\n"
     ]
    }
   ],
   "source": [
    "print(inspect.getsource(model.create_variables))"
   ]
  },
  {
   "attachments": {},
   "cell_type": "markdown",
   "metadata": {},
   "source": [
    "Within PorePy, it is a common practice to store the variable names as an attribute of the model.\n",
    "The name of, for instance, the pressure variable can be obtained like this:"
   ]
  },
  {
   "cell_type": "code",
   "execution_count": 10,
   "metadata": {},
   "outputs": [
    {
     "data": {
      "text/plain": [
       "'pressure'"
      ]
     },
     "execution_count": 38,
     "metadata": {},
     "output_type": "execute_result"
    }
   ],
   "source": [
    "model.pressure_variable"
   ]
  },
  {
   "attachments": {},
   "cell_type": "markdown",
   "metadata": {},
   "source": [
    "Accessing the variable itself can be done by using the variable name like this:"
   ]
  },
  {
   "cell_type": "code",
   "execution_count": 11,
   "metadata": {},
   "outputs": [
    {
     "data": {
      "text/plain": [
       "Mixed-dimensional variable with name pressure, id 77\n",
       "Composed of 2 variables\n",
       "Total size: 20"
      ]
     },
     "execution_count": 39,
     "metadata": {},
     "output_type": "execute_result"
    }
   ],
   "source": [
    "p = model.equation_system.md_variable(model.pressure_variable)\n",
    "p"
   ]
  },
  {
   "attachments": {},
   "cell_type": "markdown",
   "metadata": {},
   "source": [
    "Unlike the `AdArray`, a variable is an abstract AD object that does not store any values.\n",
    "It is used to define equations to be evaluated later. \n",
    "However, the model stores the current state of the values for our variables, and we can access them using the evaluate method:"
   ]
  },
  {
   "cell_type": "code",
   "execution_count": 12,
   "metadata": {},
   "outputs": [
    {
     "data": {
      "text/plain": [
       "array([0., 0., 0., 0., 0., 0., 0., 0., 0., 0.])"
      ]
     },
     "execution_count": 40,
     "metadata": {},
     "output_type": "execute_result"
    }
   ],
   "source": [
    "p_initial = p.evaluate(model.equation_system).val\n",
    "p_initial[:10]"
   ]
  },
  {
   "attachments": {},
   "cell_type": "markdown",
   "metadata": {},
   "source": [
    "Since we have not run the simulation yet, it returns the initial condition which is zero everywhere by default\n",
    "\n",
    "We can change the values manually by calling the `set_variable_values` method of the `equation_system`:"
   ]
  },
  {
   "cell_type": "code",
   "execution_count": 13,
   "metadata": {},
   "outputs": [
    {
     "data": {
      "text/plain": [
       "array([ 0.        ,  0.84147098,  0.90929743,  0.14112001, -0.7568025 ,\n",
       "       -0.95892427, -0.2794155 ,  0.6569866 ,  0.98935825,  0.41211849])"
      ]
     },
     "execution_count": 41,
     "metadata": {},
     "output_type": "execute_result"
    }
   ],
   "source": [
    "import numpy as np\n",
    "\n",
    "p_new = np.sin(np.arange(p_initial.size))\n",
    "\n",
    "model.equation_system.set_variable_values(\n",
    "    values=p_new,\n",
    "    variables=[p],\n",
    "    iterate_index=0,  #   | For a more advanced reader:\n",
    "    time_step_index=0,  # | We reference method documentation to see what these keyword\n",
    "    additive=False,  #    | arguments do.\n",
    ")\n",
    "\n",
    "# Check that it worked\n",
    "p.evaluate(model.equation_system).val[:10]"
   ]
  },
  {
   "attachments": {},
   "cell_type": "markdown",
   "metadata": {},
   "source": [
    "## Setting equations\n",
    "\n",
    "### A simplified example\n",
    "To set the equations in the model, we use the `set_equation` method inside `prepare_simulation`. This method can be a bit complicated, so we will start with a simplified example.\n",
    "\n",
    "\n",
    "To create an equation, we apply arithmetic operators or functions to variables. \n",
    "For example, we will define a polynomial equation using the pressure variable we saw in the previous section:"
   ]
  },
  {
   "cell_type": "code",
   "execution_count": 14,
   "metadata": {},
   "outputs": [],
   "source": [
    "poly_eq = p**2 + p * 5 + 2"
   ]
  },
  {
   "attachments": {},
   "cell_type": "markdown",
   "metadata": {},
   "source": [
    "<b>Note for an advanced reader:</b> \n",
    "The variable object incorporates the variables on all the grids in the mixed-dimensional\n",
    "setting. This means, we can operate with one object and simultainously define an \n",
    "equation on all the grids.\n",
    "Here, we will define an equation both on 1D and 2D grids.\n",
    "\n",
    "\n",
    "Since the equation is an AD object, just like the variable, it also has the `evaluate` method.\n",
    "When we run it, the `poly_eq` equation uses the state of `p` to return the AD array and Jacobian matrix:"
   ]
  },
  {
   "cell_type": "code",
   "execution_count": 15,
   "metadata": {},
   "outputs": [
    {
     "data": {
      "text/plain": [
       "Ad array of size 20\n",
       "Jacobian is of size (20, 28) and has 20 elements"
      ]
     },
     "execution_count": 43,
     "metadata": {},
     "output_type": "execute_result"
    }
   ],
   "source": [
    "poly_eq_result = poly_eq.evaluate(model.equation_system)\n",
    "poly_eq_result"
   ]
  },
  {
   "attachments": {},
   "cell_type": "markdown",
   "metadata": {},
   "source": [
    "We can access the values just like we saw in the beginning of this tutorial:"
   ]
  },
  {
   "cell_type": "code",
   "execution_count": 16,
   "metadata": {},
   "outputs": [
    {
     "data": {
      "text/plain": [
       "array([ 2.        ,  6.91542834,  7.37330894,  2.7255149 , -1.21126246,\n",
       "       -1.87508561,  0.68099553,  5.71656438,  7.92562097,  4.23043407])"
      ]
     },
     "execution_count": 44,
     "metadata": {},
     "output_type": "execute_result"
    }
   ],
   "source": [
    "poly_eq_result.val[:10]"
   ]
  },
  {
   "attachments": {},
   "cell_type": "markdown",
   "metadata": {},
   "source": [
    "And the Jacobian $\\frac{\\partial F}{\\partial p}$ is accessed like this:"
   ]
  },
  {
   "cell_type": "code",
   "execution_count": 17,
   "metadata": {},
   "outputs": [
    {
     "data": {
      "text/plain": [
       "matrix([[5.        , 0.        , 0.        , 0.        , 0.        ],\n",
       "        [0.        , 6.68294197, 0.        , 0.        , 0.        ],\n",
       "        [0.        , 0.        , 6.81859485, 0.        , 0.        ],\n",
       "        [0.        , 0.        , 0.        , 5.28224002, 0.        ],\n",
       "        [0.        , 0.        , 0.        , 0.        , 3.48639501]])"
      ]
     },
     "execution_count": 45,
     "metadata": {},
     "output_type": "execute_result"
    }
   ],
   "source": [
    "poly_eq_result.jac.todense()[:5, :5]"
   ]
  },
  {
   "attachments": {},
   "cell_type": "markdown",
   "metadata": {},
   "source": [
    "<b>Note for an advanced reader:</b> \n",
    "In order to make our equation a full-fledged PDE, we must discretize spatial derivatives. \n",
    "This is a more advanced topic, so we reference you to look at the source code of models to see how it is implemented. (TODO: reference to discretization tutorial)\n"
   ]
  },
  {
   "attachments": {},
   "cell_type": "markdown",
   "metadata": {},
   "source": [
    "### Setting equations in PorePy\n",
    "The `set_equations` method is where equations are defined in the model, just like we did with the polynomial equation.\n",
    "For convenience, separate parts of an equation are defined in separate functions. These functions are called separately, so that we assemble an equation from smaller blocks.\n",
    "\n",
    "As an example, let's look at the mass balance equation.\n",
    "This equation is typically defined using the accumulation, flux and source terms. \n",
    "Specific functions for assembling each of these terms can be called separately, before they later are combined to create the full mass balance equation.\n",
    "\n",
    "Below we show how this is done in practice by inspecting the source code:"
   ]
  },
  {
   "cell_type": "code",
   "execution_count": 18,
   "metadata": {},
   "outputs": [
    {
     "name": "stdout",
     "output_type": "stream",
     "text": [
      "    def mass_balance_equation(self, subdomains: list[pp.Grid]) -> pp.ad.Operator:\n",
      "        \"\"\"Mass balance equation for subdomains.\n",
      "\n",
      "        Parameters:\n",
      "            subdomains: List of subdomains.\n",
      "\n",
      "        Returns:\n",
      "            Operator representing the mass balance equation.\n",
      "\n",
      "        \"\"\"\n",
      "        # Assemble the terms of the mass balance equation.\n",
      "        accumulation = self.fluid_mass(subdomains)\n",
      "        flux = self.fluid_flux(subdomains)\n",
      "        source = self.fluid_source(subdomains)\n",
      "\n",
      "        # Feed the terms to the general balance equation method.\n",
      "        eq = self.balance_equation(subdomains, accumulation, flux, source, dim=1)\n",
      "        eq.set_name(\"mass_balance_equation\")\n",
      "        return eq\n",
      "\n"
     ]
    }
   ],
   "source": [
    "print(inspect.getsource(model.mass_balance_equation))"
   ]
  },
  {
   "attachments": {},
   "cell_type": "markdown",
   "metadata": {},
   "source": [
    "For illustrating how each of these terms are separate from the others, we will access the flux term and evaluate it.\n",
    "The Jacobian we achieve corresponds to that of the flux term only:"
   ]
  },
  {
   "cell_type": "code",
   "execution_count": 19,
   "metadata": {},
   "outputs": [
    {
     "data": {
      "text/plain": [
       "Ad array of size 49\n",
       "Jacobian is of size (49, 28) and has 72 elements"
      ]
     },
     "execution_count": 47,
     "metadata": {},
     "output_type": "execute_result"
    }
   ],
   "source": [
    "subdomains = model.mdg.subdomains()\n",
    "fluid_flux = model.fluid_flux(subdomains)\n",
    "fluid_flux_data = fluid_flux.evaluate(model.equation_system)\n",
    "fluid_flux_data"
   ]
  },
  {
   "attachments": {},
   "cell_type": "markdown",
   "metadata": {},
   "source": [
    "Going back to the source code shown above, you can see we use the method `balance_equation` to define \n",
    "a conservation law.\n",
    "Inspecting this method as well shows us that this is where the different parts of the mass balance equation come together:"
   ]
  },
  {
   "cell_type": "code",
   "execution_count": 20,
   "metadata": {},
   "outputs": [
    {
     "name": "stdout",
     "output_type": "stream",
     "text": [
      "    def balance_equation(\n",
      "        self,\n",
      "        subdomains: list[pp.Grid],\n",
      "        accumulation: pp.ad.Operator,\n",
      "        surface_term: pp.ad.Operator,\n",
      "        source: pp.ad.Operator,\n",
      "        dim: int,\n",
      "    ) -> pp.ad.Operator:\n",
      "        \"\"\"Balance equation that combines an accumulation and a surface term.\n",
      "\n",
      "        The balance equation is given by\n",
      "        .. math::\n",
      "            d_t(accumulation) + div(surface_term) - source = 0.\n",
      "\n",
      "        Parameters:\n",
      "            subdomains: List of subdomains where the balance equation is defined.\n",
      "            accumulation: Operator for the cell-wise accumulation term, integrated over\n",
      "                the cells of the subdomains.\n",
      "            surface_term: Operator for the surface term (e.g. flux, stress), integrated\n",
      "                over the faces of the subdomains.\n",
      "            source: Operator for the source term, integrated over the cells of the\n",
      "                subdomains.\n",
      "            dim: Spatial dimension of the balance equation.\n",
      "\n",
      "        Returns:\n",
      "            Operator for the balance equation.\n",
      "\n",
      "        \"\"\"\n",
      "\n",
      "        dt_operator = pp.ad.time_derivatives.dt\n",
      "        dt = self.ad_time_step\n",
      "        div = pp.ad.Divergence(subdomains, dim=dim)\n",
      "        return dt_operator(accumulation, dt) + div @ surface_term - source\n",
      "\n"
     ]
    }
   ],
   "source": [
    "accumulation = model.fluid_mass(subdomains)\n",
    "flux = model.fluid_flux(subdomains)\n",
    "source = model.fluid_source(subdomains)\n",
    "\n",
    "eq = model.balance_equation(\n",
    "    subdomains=subdomains,\n",
    "    accumulation=accumulation,\n",
    "    surface_term=flux,\n",
    "    source=source,\n",
    "    dim=1,  # Scalar equation\n",
    ")\n",
    "\n",
    "print(inspect.getsource(model.balance_equation))"
   ]
  },
  {
   "attachments": {},
   "cell_type": "markdown",
   "metadata": {},
   "source": [
    "The complete set of equations is registred in the `equation_system`:"
   ]
  },
  {
   "cell_type": "code",
   "execution_count": 21,
   "metadata": {},
   "outputs": [
    {
     "name": "stdout",
     "output_type": "stream",
     "text": [
      "    def set_equations(self):\n",
      "        \"\"\"Set the equations for the mass balance problem.\n",
      "\n",
      "        A mass balance equation is set for all subdomains and a Darcy-type flux relation\n",
      "        is set for all interfaces of codimension one.\n",
      "\n",
      "        \"\"\"\n",
      "        subdomains = self.mdg.subdomains()\n",
      "        codim_1_interfaces = self.mdg.interfaces(codim=1)\n",
      "        # TODO: If wells are integrated for nd=2 models, consider refactoring sorting of\n",
      "        # interfaces into method returning either \"normal\" or well interfaces.\n",
      "        codim_2_interfaces = self.mdg.interfaces(codim=2)\n",
      "        sd_eq = self.mass_balance_equation(subdomains)\n",
      "        intf_eq = self.interface_darcy_flux_equation(codim_1_interfaces)\n",
      "        well_eq = self.well_flux_equation(codim_2_interfaces)\n",
      "        self.equation_system.set_equation(sd_eq, subdomains, {\"cells\": 1})\n",
      "        self.equation_system.set_equation(intf_eq, codim_1_interfaces, {\"cells\": 1})\n",
      "        self.equation_system.set_equation(well_eq, codim_2_interfaces, {\"cells\": 1})\n",
      "\n"
     ]
    }
   ],
   "source": [
    "print(inspect.getsource(model.set_equations))"
   ]
  },
  {
   "attachments": {},
   "cell_type": "markdown",
   "metadata": {},
   "source": [
    "During the simulation, the values of the variables will update, and the AD equations will automaticaly produce the Jacobian based on the new values.\n",
    "\n",
    "The full Jacobian and the values of the equations can be accessed through the `equation_system`. This is done inside `pp.run_time_dependent_model`."
   ]
  },
  {
   "cell_type": "code",
   "execution_count": 22,
   "metadata": {},
   "outputs": [],
   "source": [
    "jacobian, vals = model.equation_system.assemble()"
   ]
  },
  {
   "cell_type": "code",
   "execution_count": 23,
   "metadata": {},
   "outputs": [
    {
     "data": {
      "text/plain": [
       "array([ 0.08466849, -4.32480821, -3.7754852 ,  0.71956398,  3.81444645,\n",
       "        3.3735598 ,  1.86050941, -4.42321869, -5.82804816, -0.78575445])"
      ]
     },
     "execution_count": 51,
     "metadata": {},
     "output_type": "execute_result"
    }
   ],
   "source": [
    "vals[:10]"
   ]
  },
  {
   "attachments": {},
   "cell_type": "markdown",
   "metadata": {},
   "source": [
    "Finally we can see where the values within the full Jacobian is located using the spy function within matplotlib:"
   ]
  },
  {
   "cell_type": "code",
   "execution_count": 24,
   "metadata": {},
   "outputs": [
    {
     "data": {
      "text/plain": [
       "<matplotlib.image.AxesImage at 0x2356512f7f0>"
      ]
     },
     "execution_count": 52,
     "metadata": {},
     "output_type": "execute_result"
    },
    {
     "data": {
      "image/png": "[encoded data removed]",
      "text/plain": [
       "<Figure size 640x480 with 1 Axes>"
      ]
     },
     "metadata": {},
     "output_type": "display_data"
    }
   ],
   "source": [
    "from matplotlib import pyplot as plt\n",
    "\n",
    "plt.spy(jacobian.toarray())"
   ]
  },
  {
   "attachments": {},
   "cell_type": "markdown",
   "metadata": {},
   "source": [
    "# What we have explored\n",
    "We have looked at the AD framework and how it is utilized by the PorePy models.\n",
    "\n",
    "Key messages:\n",
    "- The AD framework is capable of computing the Jacobian of an equation automatically. \n",
    "- In PorePy model, the AD objects are prepared in the `prepare_simulation` method.\n",
    "- The variables are defined in the `create_variables` method.\n",
    "- The equations are assembled from the variables in the `set_equations` method.\n",
    "- The process of assembling an equation is modular. You can access separate terms of an equation by calling the model methods. \n",
    "- The equations can be evaluated many times with the new values of the variables, and the Jacobian will be computed automatically.\n"
   ]
  },
  {
   "attachments": {},
   "cell_type": "markdown",
   "metadata": {},
   "source": [
    "# Appendix: AD functions\n",
    "\n",
    "This is the recipe for how to define an AD function. We will use our pressure variable from above and define the `sin` function."
   ]
  },
  {
   "cell_type": "code",
   "execution_count": 25,
   "metadata": {},
   "outputs": [
    {
     "data": {
      "text/plain": [
       "Mixed-dimensional variable with name pressure, id 77\n",
       "Composed of 2 variables\n",
       "Total size: 20"
      ]
     },
     "execution_count": 53,
     "metadata": {},
     "output_type": "execute_result"
    }
   ],
   "source": [
    "p"
   ]
  },
  {
   "cell_type": "code",
   "execution_count": 26,
   "metadata": {},
   "outputs": [
    {
     "data": {
      "text/plain": [
       "AD Operator function 'sin_function'"
      ]
     },
     "execution_count": 54,
     "metadata": {},
     "output_type": "execute_result"
    }
   ],
   "source": [
    "sin = pp.ad.Function(func=pp.ad.functions.sin, name=\"sin_function\")\n",
    "sin"
   ]
  },
  {
   "attachments": {},
   "cell_type": "markdown",
   "metadata": {},
   "source": [
    "`func` can be anything that takes `AdArray` and returns `AdArray`."
   ]
  },
  {
   "cell_type": "code",
   "execution_count": 27,
   "metadata": {},
   "outputs": [
    {
     "data": {
      "text/plain": [
       "Operator with no name formed by Operations.evaluate with 2 children."
      ]
     },
     "execution_count": 55,
     "metadata": {},
     "output_type": "execute_result"
    }
   ],
   "source": [
    "y = sin(p)\n",
    "y"
   ]
  },
  {
   "cell_type": "code",
   "execution_count": 28,
   "metadata": {},
   "outputs": [
    {
     "data": {
      "text/plain": [
       "Ad array of size 20\n",
       "Jacobian is of size (20, 28) and has 20 elements"
      ]
     },
     "execution_count": 56,
     "metadata": {},
     "output_type": "execute_result"
    }
   ],
   "source": [
    "result = sin(p).evaluate(model.equation_system)\n",
    "result"
   ]
  }
 ],
 "metadata": {
  "kernelspec": {
   "display_name": "Python 3 (ipykernel)",
   "language": "python",
   "name": "python3"
  },
  "language_info": {
   "codemirror_mode": {
    "name": "ipython",
    "version": 3
   },
   "file_extension": ".py",
   "mimetype": "text/x-python",
   "name": "python",
   "nbconvert_exporter": "python",
   "pygments_lexer": "ipython3",
   "version": "3.11.3"
  }
 },
 "nbformat": 4,
 "nbformat_minor": 2
}
