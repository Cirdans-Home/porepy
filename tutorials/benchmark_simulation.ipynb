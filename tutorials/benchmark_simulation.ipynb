{
 "cells": [
  {
   "attachments": {},
   "cell_type": "markdown",
   "metadata": {},
   "source": [
    "# Benchmark simulation\n",
    "In this tutorial we will solve a single phase flow problem defined in Section 4.1 of [Flemisch et al. 2017](https://doi.org/10.1016/j.advwatres.2017.10.036). The simulation is based on the `SinglePhaseFlow` class, which is introduced in [this tutorial](./single_phase_flow.ipynb). We modify the model through domain, boundary conditions and constitutive laws. \n",
    "We also specify fluid and solid parameters. \n",
    "\n",
    "\n",
    "We start off by importing the necessary packages, and make a shorthand for the single phase flow model class:"
   ]
  },
  {
   "cell_type": "code",
   "execution_count": 17,
   "metadata": {},
   "outputs": [],
   "source": [
    "import porepy as pp\n",
    "import numpy as np\n",
    "from porepy.models.fluid_mass_balance import SinglePhaseFlow"
   ]
  },
  {
   "attachments": {},
   "cell_type": "markdown",
   "metadata": {},
   "source": [
    "### Geometry\n",
    "The default geometry is a unitary domain without any fractures. The benchmark problem is defined on the unit square, but contains a set of fractures which we access in PorePy's library of fracture sets. Specifications on how to mesh the domain will be passed as parameters below.\n",
    "\n",
    "We also define the boundary conditions to be of Dirichlet type on the west and east boundary with pressure values of 1 and 0, respectively."
   ]
  },
  {
   "cell_type": "code",
   "execution_count": 18,
   "metadata": {},
   "outputs": [],
   "source": [
    "class BenchmarkGeometry:\n",
    "    def set_fractures(self) -> None:\n",
    "        \"\"\"Setting a diagonal fracture\"\"\"\n",
    "        self._fractures = pp.applications.md_grids.fracture_sets.benchmark_regular_2d_fractures()\n",
    "\n",
    "\n",
    "class BenchmarkBCs:\n",
    "    def bc_type_darcy_flux(self, sd: pp.Grid) -> pp.BoundaryCondition:\n",
    "        \"\"\"Assign dirichlet to the west and east boundaries. The rest are Neumann by default.\"\"\"\n",
    "        bounds = self.domain_boundary_sides(sd)\n",
    "        bc = pp.BoundaryCondition(sd, bounds.west + bounds.east, \"dir\")\n",
    "        return bc\n",
    "\n",
    "    def bc_values_pressure(self, boundary_grid: pp.BoundaryGrid) -> np.ndarray:\n",
    "        \"\"\"Zero bc value on top, bottom and east, 1 on west side.\"\"\"\n",
    "        bounds = self.domain_boundary_sides(boundary_grid)\n",
    "        values = np.zeros(boundary_grid.num_cells)\n",
    "        # See section on scaling for explanation of the conversion.\n",
    "        values[bounds.west] = self.fluid.convert_units(1, \"Pa\")\n",
    "        return values"
   ]
  },
  {
   "attachments": {},
   "cell_type": "markdown",
   "metadata": {},
   "source": [
    "To complete the modifications to the `SinglePhaseFlow` model, we need to implement different permeability values depending on subdomain dimension. Something similar is implemented in the `CubicLawPermeability` class, but our needs are not quite met. Here, we add separate methods for each dimension and apply values from the passed parameters for fractures and intersections.  "
   ]
  },
  {
   "cell_type": "code",
   "execution_count": 19,
   "metadata": {},
   "outputs": [],
   "source": [
    "class DimensionDependentPermeability(pp.constitutive_laws.ConstantPermeability):\n",
    "    \"\"\"Permeability depending on subdomain dimension.\"\"\"\n",
    "\n",
    "    def permeability(self, subdomains: list[pp.Grid]) -> pp.ad.Operator:\n",
    "        \"\"\"Permeability [m^2].\n",
    "\n",
    "        This function combines the permeability of the matrix, fractures and\n",
    "        intersections.\n",
    "\n",
    "        Parameters:\n",
    "            subdomains: List of subdomains.\n",
    "\n",
    "        Returns:\n",
    "            Cell-wise permeability values.\n",
    "\n",
    "        \"\"\"\n",
    "        projection = pp.ad.SubdomainProjections(subdomains, dim=1)\n",
    "        matrix = [sd for sd in subdomains if sd.dim == self.nd]\n",
    "        fractures: list[pp.Grid] = [\n",
    "            sd for sd in subdomains if sd.dim == self.nd - 1\n",
    "        ]\n",
    "        intersections: list[pp.Grid] = [\n",
    "            sd for sd in subdomains if sd.dim < self.nd - 1\n",
    "        ]\n",
    "\n",
    "        permeability = projection.cell_prolongation(matrix) @ self.matrix_permeability(\n",
    "            matrix\n",
    "        ) + projection.cell_prolongation(\n",
    "            fractures\n",
    "        ) @ self.fracture_permeability(\n",
    "            fractures\n",
    "        ) + projection.cell_prolongation(\n",
    "            intersections\n",
    "        ) @ self.intersection_permeability(\n",
    "            intersections\n",
    "        )\n",
    "        return permeability\n",
    "\n",
    "\n",
    "    def matrix_permeability(self, subdomains: list[pp.Grid]) -> pp.ad.Operator:\n",
    "        \"\"\"Permeability of the matrix.\n",
    "\n",
    "        Parameters:\n",
    "            subdomains: List of subdomains.\n",
    "\n",
    "        Returns:\n",
    "            Cell-wise permeability operator.\n",
    "\n",
    "        \"\"\"\n",
    "        return super().permeability(subdomains)  # One by default.\n",
    "\n",
    "    def fracture_permeability(self, subdomains: list[pp.Grid]) -> pp.ad.Operator:\n",
    "        \"\"\"Permeability of fractures.\n",
    "\n",
    "        Parameters:\n",
    "            subdomains: List of subdomains.\n",
    "\n",
    "        Returns:\n",
    "            Cell-wise permeability operator.\n",
    "\n",
    "        \"\"\"\n",
    "        size = sum([sd.num_cells for sd in subdomains])\n",
    "        val = self.params.get(\"fracture_permeability\", 1e-4)\n",
    "        return pp.wrap_as_dense_ad_array(self.solid.convert_units(val, \"m^2\"), size)\n",
    "\n",
    "    def intersection_permeability(self, subdomains: list[pp.Grid]) -> pp.ad.Operator:\n",
    "        \"\"\"Permeability of intersections.\n",
    "\n",
    "        Parameters:\n",
    "            subdomains: List of subdomains.\n",
    "\n",
    "        Returns:\n",
    "            Cell-wise permeability operator.\n",
    "\n",
    "        \"\"\"\n",
    "        size = sum([sd.num_cells for sd in subdomains])\n",
    "        val = self.params.get(\"intersection_permeability\", 1e-4)\n",
    "        return pp.wrap_as_dense_ad_array(self.solid.convert_units(val, \"m^2\"), size)\n"
   ]
  },
  {
   "cell_type": "markdown",
   "metadata": {},
   "source": [
    "We can now combine the extensions with the base class:"
   ]
  },
  {
   "cell_type": "code",
   "execution_count": 20,
   "metadata": {},
   "outputs": [],
   "source": [
    "class BenchmarkModel(\n",
    "    BenchmarkGeometry,\n",
    "    BenchmarkBCs,\n",
    "    DimensionDependentPermeability,\n",
    "    SinglePhaseFlow,\n",
    "):\n",
    "    \"\"\"Combines all SinglePhaseFlow with adjustments as defined in the benchmark problem.\"\"\""
   ]
  },
  {
   "attachments": {},
   "cell_type": "markdown",
   "metadata": {},
   "source": [
    "We run the with both of the fracture permeability values defined in the benchmark. We also change the grid type for good measure."
   ]
  },
  {
   "cell_type": "code",
   "execution_count": 25,
   "metadata": {},
   "outputs": [
    {
     "name": "stderr",
     "output_type": "stream",
     "text": [
      "c:\\users\\ist050\\onedrive - university of bergen\\documents\\github\\porepy\\src\\porepy\\grids\\mortar_grid.py:786: UserWarning: Is it really meaningful to ask for signs of a one sided mortar grid?\n",
      "  warnings.warn(\n"
     ]
    },
    {
     "data": {
      "image/png": "[encoded data removed]",
      "text/plain": [
       "<Figure size 640x480 with 2 Axes>"
      ]
     },
     "metadata": {},
     "output_type": "display_data"
    },
    {
     "data": {
      "image/png": "[encoded data removed]",
      "text/plain": [
       "<Figure size 640x480 with 2 Axes>"
      ]
     },
     "metadata": {},
     "output_type": "display_data"
    }
   ],
   "source": [
    "for k_f, grid_type in zip([1e-4, 1e4], [\"cartesian\", \"simplex\"]):\n",
    "    # We use default fluid parameters but tailored solid parameters.\n",
    "    solid_constants = pp.SolidConstants({\"aperture\": 1e-4, \"normal_permeability\": k_f})\n",
    "    params = {\n",
    "        \"fracture_permeability\": k_f,\n",
    "        \"intersection_permeability\": k_f,\n",
    "        \"material_constants\": {\"solid\": solid_constants},\n",
    "        \"grid_type\": grid_type,\n",
    "        \"meshing_arguments\": {\"cell_size\": 1/16}\n",
    "    }\n",
    "    model = BenchmarkModel(params)\n",
    "    pp.run_time_dependent_model(model, params)\n",
    "    pp.plot_grid(model.mdg, model.pressure_variable, figsize=(10, 8), plot_2d=True)"
   ]
  },
  {
   "attachments": {},
   "cell_type": "markdown",
   "metadata": {},
   "source": [
    "### Boundary conditions, fluid and solid constants\n",
    "One example of how to include some driving forces is by defining some non-zero boundary conditions. \n",
    "This is done similarly to how we modified the geometry, meaning that we will now define a mixin for the boundary conditions. \n",
    "Methods for the boundary conditions are already present in the default model class, so modifying them can be done by overwriting the methods ``bc_type_darcy_flux_flux`` and ``bc_type_darcy_flux_flux``."
   ]
  },
  {
   "cell_type": "code",
   "execution_count": 22,
   "metadata": {},
   "outputs": [],
   "source": [
    "import numpy as np\n",
    "import porepy as pp\n",
    "from porepy.models.fluid_mass_balance import BoundaryConditionsSinglePhaseFlow\n",
    "\n",
    "class ModifiedBC(BoundaryConditionsSinglePhaseFlow):\n",
    "    def bc_type_darcy_flux(self, sd: pp.Grid) -> pp.BoundaryCondition:\n",
    "        \"\"\"Assign dirichlet to the west and east boundaries. The rest are Neumann by default.\"\"\"\n",
    "        bounds = self.domain_boundary_sides(sd)\n",
    "        bc = pp.BoundaryCondition(sd, bounds.west + bounds.east, \"dir\")\n",
    "        return bc\n",
    "\n",
    "    def bc_values_pressure(self, boundary_grid: pp.BoundaryGrid) -> np.ndarray:\n",
    "        \"\"\"Zero bc value on top and bottom, 5 on west side, 2 on east side.\"\"\"\n",
    "        bounds = self.domain_boundary_sides(boundary_grid)\n",
    "        values = np.zeros(boundary_grid.num_cells)\n",
    "        # See section on scaling for explanation of the conversion.\n",
    "        values[bounds.west] = self.fluid.convert_units(5, \"Pa\")\n",
    "        values[bounds.east] = self.fluid.convert_units(2, \"Pa\")\n",
    "        return values"
   ]
  },
  {
   "attachments": {},
   "cell_type": "markdown",
   "metadata": {},
   "source": [
    "To combine the standard model with the new geometry _and_ the boundary conditions, we simply create a new class which inherits from all of them:"
   ]
  },
  {
   "cell_type": "code",
   "execution_count": 23,
   "metadata": {},
   "outputs": [
    {
     "ename": "NameError",
     "evalue": "name 'ModifiedGeometry' is not defined",
     "output_type": "error",
     "traceback": [
      "\u001b[1;31m---------------------------------------------------------------------------\u001b[0m",
      "\u001b[1;31mNameError\u001b[0m                                 Traceback (most recent call last)",
      "\u001b[1;32mc:\\Users\\ist050\\OneDrive - University of Bergen\\Documents\\GitHub\\porepy\\tutorials\\benchmark_simulation.ipynb Cell 14\u001b[0m line \u001b[0;36m2\n\u001b[0;32m      <a href='vscode-notebook-cell:/c%3A/Users/ist050/OneDrive%20-%20University%20of%20Bergen/Documents/GitHub/porepy/tutorials/benchmark_simulation.ipynb#X20sZmlsZQ%3D%3D?line=0'>1</a>\u001b[0m \u001b[39mclass\u001b[39;00m \u001b[39mSinglePhaseFlowGeometryBC\u001b[39;00m(\n\u001b[1;32m----> <a href='vscode-notebook-cell:/c%3A/Users/ist050/OneDrive%20-%20University%20of%20Bergen/Documents/GitHub/porepy/tutorials/benchmark_simulation.ipynb#X20sZmlsZQ%3D%3D?line=1'>2</a>\u001b[0m     ModifiedGeometry,\n\u001b[0;32m      <a href='vscode-notebook-cell:/c%3A/Users/ist050/OneDrive%20-%20University%20of%20Bergen/Documents/GitHub/porepy/tutorials/benchmark_simulation.ipynb#X20sZmlsZQ%3D%3D?line=2'>3</a>\u001b[0m     ModifiedBC,\n\u001b[0;32m      <a href='vscode-notebook-cell:/c%3A/Users/ist050/OneDrive%20-%20University%20of%20Bergen/Documents/GitHub/porepy/tutorials/benchmark_simulation.ipynb#X20sZmlsZQ%3D%3D?line=3'>4</a>\u001b[0m     SinglePhaseFlow):\n\u001b[0;32m      <a href='vscode-notebook-cell:/c%3A/Users/ist050/OneDrive%20-%20University%20of%20Bergen/Documents/GitHub/porepy/tutorials/benchmark_simulation.ipynb#X20sZmlsZQ%3D%3D?line=4'>5</a>\u001b[0m \u001b[39m    \u001b[39m\u001b[39m\"\"\"Adding both geometry and modified boundary conditions to the default model.\"\"\"\u001b[39;00m\n\u001b[0;32m      <a href='vscode-notebook-cell:/c%3A/Users/ist050/OneDrive%20-%20University%20of%20Bergen/Documents/GitHub/porepy/tutorials/benchmark_simulation.ipynb#X20sZmlsZQ%3D%3D?line=5'>6</a>\u001b[0m     \u001b[39m.\u001b[39m\u001b[39m.\u001b[39m\u001b[39m.\u001b[39m\n",
      "\u001b[1;31mNameError\u001b[0m: name 'ModifiedGeometry' is not defined"
     ]
    }
   ],
   "source": [
    "class SinglePhaseFlowGeometryBC(\n",
    "    ModifiedGeometry,\n",
    "    ModifiedBC,\n",
    "    SinglePhaseFlow):\n",
    "    \"\"\"Adding both geometry and modified boundary conditions to the default model.\"\"\"\n",
    "    ..."
   ]
  },
  {
   "attachments": {},
   "cell_type": "markdown",
   "metadata": {},
   "source": [
    "Before we go ahead and run the model, we will also have a look at how to change parameters present in the model.\n",
    "Material constants are stored in and accessed through `SolidConstants` and `FluidConstants` objects.\n",
    "Instantiating these classes is how we can make adjustments of the material constants. \n",
    "\n",
    "This is done by creating ``fluid`` and ``solid`` dictionaries inside the ``material_constants`` dictionary, which is again located within the ``params`` dictionary.\n",
    "An example is shown below."
   ]
  },
  {
   "cell_type": "code",
   "execution_count": null,
   "metadata": {},
   "outputs": [],
   "source": [
    "fluid_constants = pp.FluidConstants({\"viscosity\": 0.1, \"density\": 0.2})\n",
    "solid_constants = pp.SolidConstants({\"permeability\": 0.5, \"porosity\": 0.25})\n",
    "material_constants = {\"fluid\": fluid_constants, \"solid\": solid_constants}\n",
    "params = {\"material_constants\": material_constants}\n"
   ]
  },
  {
   "attachments": {},
   "cell_type": "markdown",
   "metadata": {},
   "source": [
    "Once the fluid and solid constants are defined within the ``params`` dictionary, we feed them to the model, and then run the simulation."
   ]
  },
  {
   "cell_type": "code",
   "execution_count": null,
   "metadata": {},
   "outputs": [],
   "source": [
    "model = SinglePhaseFlowGeometryBC(params)\n",
    "pp.run_time_dependent_model(model, params)\n",
    "pp.plot_grid(model.mdg, \"pressure\", figsize=(10, 8), linewidth=0.25, title=\"Pressure distribution\")"
   ]
  },
  {
   "attachments": {},
   "cell_type": "markdown",
   "metadata": {},
   "source": [
    "### Fracture source\n",
    "Another way to modify the model is to include a fracture source.\n",
    "Below we demonstrate how a unitary fracture source can be included by a rather simple modification to the method governing the fluid source"
   ]
  },
  {
   "cell_type": "code",
   "execution_count": null,
   "metadata": {},
   "outputs": [],
   "source": [
    "class ModifiedSource:\n",
    "    def fluid_source(self, subdomains: list[pp.Grid]) -> pp.ad.Operator:\n",
    "        \"\"\"Assign unitary fracture source\"\"\"\n",
    "        # Retrieve internal sources (jump in mortar fluxes) from the base class\n",
    "        internal_sources: pp.ad.Operator = super().fluid_source(subdomains)\n",
    "\n",
    "        # Retrieve external (integrated) sources from the exact solution.\n",
    "        values = []\n",
    "\n",
    "        for sd in subdomains:\n",
    "            if sd.dim == self.mdg.dim_max():\n",
    "                values.append(np.zeros(sd.num_cells))\n",
    "            else:\n",
    "                values.append(np.ones(sd.num_cells))\n",
    "\n",
    "        external_sources = pp.wrap_as_dense_ad_array(np.hstack(values))\n",
    "\n",
    "        # Add up both contributions\n",
    "        source = internal_sources + external_sources\n",
    "        source.set_name(\"fluid sources\")\n",
    "\n",
    "        return source"
   ]
  },
  {
   "attachments": {},
   "cell_type": "markdown",
   "metadata": {},
   "source": [
    "For the sake of seeing the effects of the unitary fracture source, we do not include the non-zero boundary conditions.\n",
    "This is simply done by not inheriting from ``ModifiedBC`` when creating the new model with a fracture source."
   ]
  },
  {
   "cell_type": "code",
   "execution_count": null,
   "metadata": {},
   "outputs": [],
   "source": [
    "class SinglePhaseFlowFractureSource(\n",
    "    ModifiedGeometry,\n",
    "    ModifiedSource,\n",
    "    SinglePhaseFlow):\n",
    "    \"\"\"Including the fracture source mixin to the default model.\"\"\"\n",
    "    ...\n",
    "\n",
    "model = SinglePhaseFlowFractureSource(params)\n",
    "pp.run_time_dependent_model(model, params)\n",
    "pp.plot_grid(model.mdg, \"pressure\", figsize=(10, 8), linewidth=0.2, title=\"Pressure distribution\")"
   ]
  },
  {
   "attachments": {},
   "cell_type": "markdown",
   "metadata": {},
   "source": [
    "## Compressible flow\n",
    "Building upon the model with a unitary fracture source and zero boundary conditions, we will now consider a compressible fluid.\n"
   ]
  },
  {
   "cell_type": "code",
   "execution_count": null,
   "metadata": {},
   "outputs": [],
   "source": [
    "class CompressibleFlow(\n",
    "    ModifiedGeometry,\n",
    "    ModifiedBC,\n",
    "    ModifiedSource,\n",
    "    SinglePhaseFlow\n",
    "):\n",
    "    \"\"\"Combining modified geometry, boundary conditions and the source term with the default model.\n",
    "\n",
    "    \"\"\"\n",
    "    ..."
   ]
  },
  {
   "attachments": {},
   "cell_type": "markdown",
   "metadata": {},
   "source": [
    "\n",
    "Setting the compressibility to a non-zero value makes the fluid compressible, and this makes the model time-dependent. \n",
    "For seeing the gradual evolution of the solution we also need to assign non-default values to the ``pp.TimeManager``. \n",
    "\n",
    "In other words, all previous simulations are only run with one time step as this is the default time step amount.\n",
    "Simulations with multiple time steps require users to explicitly define parameters such as time step size and the time schedule.\n",
    "The time manager, with the new, non-default time parameters, is passed to the model through the ``params`` dictionary."
   ]
  },
  {
   "cell_type": "code",
   "execution_count": null,
   "metadata": {},
   "outputs": [],
   "source": [
    "fluid_constants = pp.FluidConstants({\"compressibility\": 0.01})\n",
    "material_constants = {\"fluid\": fluid_constants}\n",
    "\n",
    "time_manager = pp.TimeManager(\n",
    "    schedule=[0, 1e-3],\n",
    "    dt_init=1e-4,\n",
    "    constant_dt=True,\n",
    "    iter_max=10,\n",
    "    print_info=True,\n",
    ")\n",
    "\n",
    "params = {\"material_constants\": material_constants, \"time_manager\": time_manager}\n",
    "model = CompressibleFlow(params)"
   ]
  },
  {
   "attachments": {},
   "cell_type": "markdown",
   "metadata": {},
   "source": [
    "Running the model and doing a simple visualization of the result is done in the exact same way as before:"
   ]
  },
  {
   "cell_type": "code",
   "execution_count": null,
   "metadata": {},
   "outputs": [],
   "source": [
    "pp.run_time_dependent_model(model, params)\n",
    "pp.plot_grid(model.mdg, \"pressure\", figsize=(10, 8), linewidth=0.2)"
   ]
  },
  {
   "attachments": {},
   "cell_type": "markdown",
   "metadata": {},
   "source": [
    "The figure above shows the final solution, while the gradual evolvement of it can be visualized using e.g. ParaView. \n",
    "By default, all the primary variables of the model are saved at each time step. Unless specified otherwise, all exported files are stored in a folder named `visualization` in the working directory. \n",
    "For more details on how to customize the exporting, see the [exporting in models tutorial](./exporting_models.ipynb).\n"
   ]
  },
  {
   "attachments": {},
   "cell_type": "markdown",
   "metadata": {},
   "source": [
    "# What we have explored\n",
    "We have had a look at how single physics simulations can be run with PorePy by modifying various different parts of the default models.\n",
    "\n",
    "Specifically, we modified the following:\n",
    "* Model geometry\n",
    "* Boundary conditions\n",
    "* Source term\n",
    "* Material constants\n",
    "* Time manager"
   ]
  }
 ],
 "metadata": {
  "kernelspec": {
   "display_name": "Python 3 (ipykernel)",
   "language": "python",
   "name": "python3"
  },
  "language_info": {
   "codemirror_mode": {
    "name": "ipython",
    "version": 3
   },
   "file_extension": ".py",
   "mimetype": "text/x-python",
   "name": "python",
   "nbconvert_exporter": "python",
   "pygments_lexer": "ipython3",
   "version": "3.11.3"
  }
 },
 "nbformat": 4,
 "nbformat_minor": 2
}
