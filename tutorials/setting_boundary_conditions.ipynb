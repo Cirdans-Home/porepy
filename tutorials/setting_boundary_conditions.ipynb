{
 "cells": [
  {
   "cell_type": "markdown",
   "metadata": {},
   "source": [
    "# Setting boundary conditions in PorePy\n",
    "In this tutorial we will visit how to set boundary conditions for different model problems in PorePy.\n",
    "In general, the setup is roughly as follows:\n",
    "* Boundary condition type (Neumann or Dirichlet) is set by one method\n",
    "* Boundary condition values are set through one or more methods\n",
    "\n",
    "Internally in the code there are Neumann and Dirichlet filters being assigned according to the user's input in the boundary condition type method.\n",
    "These filters make sure that only values set by a Dirichlet-method is assigned to Dirichlet boundaries, and similar for the Neumann case. For explaining this more thoroughly we will present some examples.\n"
   ]
  },
  {
   "cell_type": "markdown",
   "metadata": {},
   "source": [
    "# The flow problem"
   ]
  },
  {
   "cell_type": "markdown",
   "metadata": {},
   "source": [
    "# The thermal problem"
   ]
  },
  {
   "cell_type": "markdown",
   "metadata": {},
   "source": [
    "# The mechanics problem\n",
    "Similar to the previous problems, we need to define one method for the type of boundary condition we are interested in, and another one for assigning the values. \n",
    "In the case of the mechanics problem we utilize the momentum balance model class. \n",
    "The momentum balance model class has the following methods predefined for setting boundary condition type and values:\n",
    "* `bc_type_mechanics` for setting boundary condition type.\n",
    "* `bc_values_displacement` for Dirichlet values.\n",
    "* `bc_values_stress` for Neumann values.\n",
    "\n",
    "As opposed to with the previous examples, this is a vector problem. \n",
    "Therefore we will here have to assign vectorial boundary condition values. \n",
    "This is shown below:\n"
   ]
  },
  {
   "cell_type": "code",
   "execution_count": 22,
   "metadata": {},
   "outputs": [],
   "source": [
    "import numpy as np\n",
    "import porepy as pp\n",
    "\n",
    "class ModifiedBoundaryConditions:\n",
    "    def bc_type_mechanics(self, sd: pp.Grid) -> pp.BoundaryConditionVectorial:\n",
    "        bounds = self.domain_boundary_sides(sd)\n",
    "\n",
    "        bc = pp.BoundaryConditionVectorial(sd, bounds.west, \"dir\")\n",
    "        return bc\n",
    "\n",
    "    def bc_values_stress(self, bg: pp.BoundaryGrid) -> np.ndarray:\n",
    "        \"\"\"Setting stress boundary conditions at north, south and east boundaries.\n",
    "        \n",
    "        Specifically, we assign different values for the x- and y-component of the boundary value vector.\n",
    "\n",
    "        \"\"\"\n",
    "        values = np.ones((self.nd, bg.num_cells))\n",
    "        bounds = self.domain_boundary_sides(bg)\n",
    "\n",
    "        values[0][bounds.north + bounds.south] *= 1.5\n",
    "        values[1][bounds.north + bounds.south] *= 0.5\n",
    "\n",
    "        return values.ravel(\"F\")\n",
    "\n",
    "    def bc_values_displacement(self, bg: pp.BoundaryGrid) -> np.ndarray:\n",
    "        \"\"\"Setting displacement boundary conditions.\n",
    "        \n",
    "        This method returns an array of boundary condition values with the value 5 for all boundary x-components. However, since only the western boundary has the Dirichlet filter, the internal code will only consider the value 5 for the western boundary.\n",
    "        \n",
    "        \"\"\"\n",
    "        values = np.ones((self.nd, bg.num_cells))\n",
    "    \n",
    "        values[0] *= 5\n",
    "        return values.ravel(\"F\")\n"
   ]
  }
 ],
 "metadata": {
  "kernelspec": {
   "display_name": "porepy",
   "language": "python",
   "name": "python3"
  },
  "language_info": {
   "codemirror_mode": {
    "name": "ipython",
    "version": 3
   },
   "file_extension": ".py",
   "mimetype": "text/x-python",
   "name": "python",
   "nbconvert_exporter": "python",
   "pygments_lexer": "ipython3",
   "version": "3.10.6"
  }
 },
 "nbformat": 4,
 "nbformat_minor": 2
}
